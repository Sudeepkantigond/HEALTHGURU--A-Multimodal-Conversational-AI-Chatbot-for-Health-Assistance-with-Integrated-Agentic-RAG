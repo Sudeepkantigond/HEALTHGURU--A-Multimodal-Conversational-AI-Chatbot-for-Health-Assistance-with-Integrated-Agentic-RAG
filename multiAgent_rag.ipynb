{
 "cells": [
  {
   "cell_type": "code",
   "execution_count": 182,
   "id": "70039f81",
   "metadata": {},
   "outputs": [],
   "source": [
    "import os\n",
    "from dotenv import load_dotenv\n",
    "from langchain_google_genai import ChatGoogleGenerativeAI\n",
    "from langchain_pinecone import PineconeVectorStore\n",
    "from langchain.embeddings import HuggingFaceEmbeddings\n",
    "from langchain_core.prompts import ChatPromptTemplate\n"
   ]
  },
  {
   "cell_type": "code",
   "execution_count": null,
   "id": "2fea5dad",
   "metadata": {},
   "outputs": [
    {
     "name": "stderr",
     "output_type": "stream",
     "text": [
      "INFO:sentence_transformers.SentenceTransformer:Use pytorch device_name: cpu\n",
      "INFO:sentence_transformers.SentenceTransformer:Load pretrained SentenceTransformer: sentence-transformers/all-MiniLM-L6-v2\n",
      "INFO:pinecone_plugin_interface.logging:Discovering subpackages in _NamespacePath(['c:\\\\Users\\\\anand\\\\Desktop\\\\healthguru\\\\Chatbot\\\\venv\\\\Lib\\\\site-packages\\\\pinecone_plugins'])\n",
      "INFO:pinecone_plugin_interface.logging:Looking for plugins in pinecone_plugins.inference\n",
      "INFO:pinecone_plugin_interface.logging:Installing plugin inference into Pinecone\n",
      "INFO:pinecone_plugin_interface.logging:Discovering subpackages in _NamespacePath(['c:\\\\Users\\\\anand\\\\Desktop\\\\healthguru\\\\Chatbot\\\\venv\\\\Lib\\\\site-packages\\\\pinecone_plugins'])\n",
      "INFO:pinecone_plugin_interface.logging:Looking for plugins in pinecone_plugins.inference\n"
     ]
    }
   ],
   "source": [
    "load_dotenv()\n",
    "os.environ[\"PINECONE_API_KEY\"] = os.getenv(\"PINECONE_API_KEY\")\n",
    "os.environ[\"GOOGLE_API_KEY\"] = os.getenv(\"GOOGLE_API_KEY\")\n",
    "\n",
    "# 🔎 Setup embedding model and vector store\n",
    "embeddings = HuggingFaceEmbeddings(model_name='sentence-transformers/all-MiniLM-L6-v2')\n",
    "index_name = \"healthguru\"\n",
    "docsearch = PineconeVectorStore.from_existing_index(index_name=index_name, embedding=embeddings)\n",
    "retriever = docsearch.as_retriever(search_type=\"similarity\", search_kwargs={\"k\": 5})\n"
   ]
  },
  {
   "cell_type": "code",
   "execution_count": 241,
   "id": "da8f419a",
   "metadata": {},
   "outputs": [],
   "source": [
    "llm = ChatGoogleGenerativeAI(\n",
    "    model=\"gemini-2.0-flash-lite\",\n",
    "    temperature=0.3,\n",
    "    max_tokens=1024,\n",
    "    timeout=60,\n",
    ")"
   ]
  },
  {
   "cell_type": "code",
   "execution_count": 184,
   "id": "54112604",
   "metadata": {},
   "outputs": [],
   "source": [
    "\n",
    "template = \"\"\"\n",
    "\"You are HealthGuru helpful health assistant providing accurate information and suggestions regarding health,\n",
    "diseases,treatments and general health tips .\\n\\n\"\n",
    "\"if the enough info not available then use websearch agent to answer the query\"\n",
    "\n",
    "Answer the user query based on the following context and the Chathistory. Especially take the latest question into consideration:\n",
    "\n",
    "Chathistory: {history}\n",
    "\n",
    "Context: {context}\n",
    "\n",
    "Question: {question}\n",
    "\"\"\"\n",
    "prompt = ChatPromptTemplate.from_template(template)\n",
    "\n",
    "\n",
    "rag_chain = prompt | llm"
   ]
  },
  {
   "cell_type": "code",
   "execution_count": 185,
   "id": "3c8b2991",
   "metadata": {},
   "outputs": [],
   "source": [
    "from typing import TypedDict, List\n",
    "from langchain_core.messages import BaseMessage, HumanMessage, AIMessage, SystemMessage\n",
    "from langchain.schema import Document\n",
    "from pydantic import BaseModel, Field\n",
    "from langchain_core.prompts import ChatPromptTemplate\n",
    "from langgraph.graph import StateGraph, END\n",
    "from langchain_community.tools.tavily_search import TavilySearchResults \n"
   ]
  },
  {
   "cell_type": "code",
   "execution_count": 186,
   "id": "34ae76ff",
   "metadata": {},
   "outputs": [],
   "source": [
    "class AgentState(TypedDict):\n",
    "    messages: List[BaseMessage]\n",
    "    documents: List[Document]\n",
    "    on_topic: str\n",
    "    enhanced_query: str\n",
    "    proceed_to_generate: bool\n",
    "    rephrase_count: int\n",
    "    question: HumanMessage"
   ]
  },
  {
   "cell_type": "code",
   "execution_count": 187,
   "id": "37b14cca",
   "metadata": {},
   "outputs": [],
   "source": [
    "class GradeQuestion(BaseModel):\n",
    "    score: str = Field(\n",
    "        description=\"Question is about the specified topics? If yes -> 'Yes' if not -> 'No'\"\n",
    "    )"
   ]
  },
  {
   "cell_type": "code",
   "execution_count": 188,
   "id": "fdd61acd",
   "metadata": {},
   "outputs": [],
   "source": [
    "class Greetings(BaseModel):\n",
    "    greeting: str = Field(\n",
    "        description=\"is it Greeting from the user? If yes -> 'Yes' if not -> 'No'\"\n",
    "    )"
   ]
  },
  {
   "cell_type": "code",
   "execution_count": 189,
   "id": "0db0e0d7",
   "metadata": {},
   "outputs": [],
   "source": [
    "def query_enhancer(state: AgentState):\n",
    "    print(f\"Entering question_rewriter with following state: {state}\")\n",
    "\n",
    "    # Reset state variables except for 'question' and 'messages'\n",
    "    state[\"documents\"] = []\n",
    "    state[\"on_topic\"] = \"\"\n",
    "    state[\"enhanced_query\"] = \"\"\n",
    "    state[\"proceed_to_generate\"] = False\n",
    "    state[\"rephrase_count\"] = 0\n",
    "\n",
    "    if \"messages\" not in state or state[\"messages\"] is None:\n",
    "        state[\"messages\"] = []\n",
    "\n",
    "    if state[\"question\"] not in state[\"messages\"]:\n",
    "        state[\"messages\"].append(state[\"question\"])\n",
    "\n",
    "    if len(state[\"messages\"]) > 1:\n",
    "        conversation = state[\"messages\"][:-1]\n",
    "        current_question = state[\"question\"].content\n",
    "        messages = [\n",
    "            SystemMessage(\n",
    "                content=\"You are a helpful assistant that rephrases the user's question to be a standalone question optimized for retrieval.\"\n",
    "            )\n",
    "        ]\n",
    "        messages.extend(conversation)\n",
    "        messages.append(HumanMessage(content=current_question))\n",
    "        rephrase_prompt = ChatPromptTemplate.from_messages(messages)\n",
    "        prompt = rephrase_prompt.format()\n",
    "        response = llm.invoke(prompt)\n",
    "        better_question = response.content.strip()\n",
    "        # print(f\"query_enhancer: Rephrased question: {better_question}\")\n",
    "        state[\"enhanced_query\"] = better_question\n",
    "    else:\n",
    "        state[\"enhanced_query\"] = state[\"question\"].content\n",
    "    return state"
   ]
  },
  {
   "cell_type": "code",
   "execution_count": 190,
   "id": "1d6b1c6b",
   "metadata": {},
   "outputs": [],
   "source": [
    "def query_classifier(state: AgentState):\n",
    "    print(\"Entering question_classifier\")\n",
    "    system_message = SystemMessage(\n",
    "        content=\"\"\"You are a classifier that determines whether a user's question is about the following health-related topics:\n",
    "    \n",
    "    0. health-related topics\n",
    "    1. Symptoms and causes of diseases (e.g., diabetes, hypertension, etc.)\n",
    "    2. Treatment options and medications\n",
    "    3. Preventive healthcare (e.g., vaccinations, screenings)\n",
    "    4. Diet and nutrition advice\n",
    "    5. Exercise and fitness recommendations\n",
    "    6. Mental health and well-being\n",
    "    7. General healthcare information or healthy lifestyle tips\n",
    "    8. Health technology and innovations (e.g., telemedicine, health apps)\n",
    "    \n",
    "    If the question IS about any of these topics, respond with 'Yes'.\n",
    "    If the query is about Greetings and salutations and Asking about you and your concern(e.g., \"Hello\", \"Hi\", \"Good morning\" etc) respond with 'greeting'. Otherwise, respond with 'No'.\n",
    "    \n",
    "    \"\"\"\n",
    "    )\n",
    "\n",
    "\n",
    "    human_message = HumanMessage(\n",
    "        content=f\"User question: {state['enhanced_query']}\\n\\n\"\n",
    "    )\n",
    "    grade_prompt = ChatPromptTemplate.from_messages([system_message, human_message])\n",
    "    structured_llm = llm.with_structured_output(GradeQuestion)\n",
    "    grader_llm = grade_prompt | structured_llm\n",
    "    result = grader_llm.invoke({})\n",
    "    state[\"on_topic\"] = result.score.strip()\n",
    "    print(f\"question_classifier: on_topic = {state['on_topic']}\")\n",
    "    return state"
   ]
  },
  {
   "cell_type": "code",
   "execution_count": 191,
   "id": "5afc1498",
   "metadata": {},
   "outputs": [],
   "source": [
    "def on_topic_router(state: AgentState):\n",
    "    print(\"Entering on_topic_router\")\n",
    "    on_topic = state.get(\"on_topic\", \"\").strip().lower()\n",
    "    if on_topic == \"yes\":\n",
    "        print(\"Routing to retrieve\")\n",
    "        return \"retrieve\"\n",
    "    elif on_topic == \"greeting\":\n",
    "        print(\"Routing to greeting_response\")\n",
    "        return \"greeting_response\"\n",
    "    else:\n",
    "        print(\"Routing to off_topic_response\")\n",
    "        return \"off_topic_response\""
   ]
  },
  {
   "cell_type": "code",
   "execution_count": 192,
   "id": "12754c3c",
   "metadata": {},
   "outputs": [],
   "source": [
    "def greeting_response(state: AgentState):\n",
    "    print(\"Entering greeting_response\")\n",
    "    state['proceed_to_generate'] = True\n",
    "    state[\"documents\"] = []\n",
    "    return state"
   ]
  },
  {
   "cell_type": "code",
   "execution_count": 193,
   "id": "39293c6a",
   "metadata": {},
   "outputs": [],
   "source": [
    "def retrieve(state: AgentState):\n",
    "    print(\"Entering retrieve\")\n",
    "    documents = retriever.invoke(state[\"enhanced_query\"])\n",
    "    # print(f\"retrieve: Retrieved {len(documents)} documents\")\n",
    "    state[\"documents\"] = documents\n",
    "    return state"
   ]
  },
  {
   "cell_type": "code",
   "execution_count": 194,
   "id": "540ae24e",
   "metadata": {},
   "outputs": [],
   "source": [
    "class GradeDocument(BaseModel):\n",
    "    score: str = Field(\n",
    "        ...,\n",
    "        description=(\n",
    "            \"Does this document fully or partially answer the user's query?\\n\"\n",
    "            \"Answer 'Yes' if the document contains relevant, useful, or directly related information.\\n\"\n",
    "            \"Answer 'No' if the document does not help answer the query or is off-topic.\\n\"\n",
    "        )\n",
    "    )"
   ]
  },
  {
   "cell_type": "code",
   "execution_count": 195,
   "id": "04cd700e",
   "metadata": {},
   "outputs": [],
   "source": [
    "def retrieval_grader(state: AgentState):\n",
    "    print(\"Entering retrieval_grader\")\n",
    "    system_message = SystemMessage(\n",
    "    content=\"\"\"\n",
    "    You are a grader assessing the relevance of a retrieved document to a user question.\n",
    "    Respond only with 'Yes' or 'No'.\n",
    "\n",
    "    Respond 'Yes' only if the document directly answers the user's question AND is on the correct topic.\n",
    "\n",
    "    Do NOT respond 'Yes' if:\n",
    "    - The document discusses unrelated diseases or topics (e.g., HIV vs COVID-19).\n",
    "    - The symptoms mentioned are general and not clearly tied to the topic in the question.\n",
    "    - The document content is ambiguous or off-topic.\n",
    "\n",
    "    Be strict. Respond 'No' if unsure.\n",
    "    \"\"\"\n",
    ")\n",
    "\n",
    "    structured_llm = llm.with_structured_output(GradeDocument)\n",
    "\n",
    "    relevant_docs = []\n",
    "    for doc in state[\"documents\"]:\n",
    "        human_message = HumanMessage(\n",
    "            content=f\"User question: {state['enhanced_query']}\\n\\nRetrieved document:\\n{doc.page_content}\"\n",
    "        )\n",
    "        grade_prompt = ChatPromptTemplate.from_messages([system_message, human_message])\n",
    "        grader_llm = grade_prompt | structured_llm\n",
    "        result = grader_llm.invoke({})\n",
    "        # print(\n",
    "        #     f\"Grading document: {doc.page_content[:30]}... Result: {result.score.strip()}\"\n",
    "        # )\n",
    "        if result.score.strip().lower() == \"yes\":\n",
    "            relevant_docs.append(doc)\n",
    "    state[\"documents\"] = relevant_docs\n",
    "    state[\"proceed_to_generate\"] = len(relevant_docs) > 0\n",
    "    print(f\"retrieval_grader: proceed_to_generate = {state['proceed_to_generate']}\")\n",
    "    return state"
   ]
  },
  {
   "cell_type": "code",
   "execution_count": 196,
   "id": "afecfd2e",
   "metadata": {},
   "outputs": [],
   "source": [
    "def proceed_router(state: AgentState):\n",
    "    print(\"Entering proceed_router\")\n",
    "    rephrase_count = state.get(\"rephrase_count\", 0)\n",
    "\n",
    "    if state.get(\"proceed_to_generate\", False):\n",
    "        print(\"Relevant documents found. Routing to generate_answer.\")\n",
    "        return \"generate_answer\"\n",
    "    \n",
    "    if rephrase_count >= 2:\n",
    "        print(\"No relevant docs and rephrased 2 times. Routing to websearch.\")\n",
    "        return \"websearch\"\n",
    "    \n",
    "    print(\"No relevant docs. Will try refining the query.\")\n",
    "    return \"refine_query\"\n"
   ]
  },
  {
   "cell_type": "code",
   "execution_count": 197,
   "id": "3630c5d5",
   "metadata": {},
   "outputs": [],
   "source": [
    "def refine_query(state: AgentState):\n",
    "    print(\"Entering refine_question\")\n",
    "    rephrase_count = state.get(\"rephrase_count\", 0)\n",
    "    if rephrase_count >= 2:\n",
    "        # print(\"Maximum rephrase attempts reached\")\n",
    "        return state\n",
    "    question_to_refine = state[\"enhanced_query\"]\n",
    "    system_message = SystemMessage(\n",
    "        content=\"\"\"You are a helpful assistant that slightly refines the user's question to improve retrieval results.\n",
    "Provide a slightly adjusted version of the question.\"\"\"\n",
    "    )\n",
    "    human_message = HumanMessage(\n",
    "        content=f\"Original question: {question_to_refine}\\n\\nProvide a slightly refined question.\"\n",
    "    )\n",
    "    refine_prompt = ChatPromptTemplate.from_messages([system_message, human_message])\n",
    "    prompt = refine_prompt.format()\n",
    "    response = llm.invoke(prompt)\n",
    "    refined_question = response.content.strip()\n",
    "    print(f\"refine_question: Refined question: {refined_question}\")\n",
    "    state[\"enhanced_query\"] = refined_question\n",
    "    state[\"rephrase_count\"] = rephrase_count + 1\n",
    "    return state"
   ]
  },
  {
   "cell_type": "code",
   "execution_count": 198,
   "id": "dcaf7ea9",
   "metadata": {},
   "outputs": [],
   "source": [
    "def generate_answer(state: AgentState):\n",
    "    print(\"Entering generate_answer\")\n",
    "    if \"messages\" not in state or state[\"messages\"] is None:\n",
    "        raise ValueError(\"State must include 'messages' before generating an answer.\")\n",
    "\n",
    "    history = state[\"messages\"]\n",
    "    documents = state[\"documents\"]\n",
    "    rephrased_query = state[\"enhanced_query\"]\n",
    "\n",
    "    response = rag_chain.invoke(\n",
    "        {\"history\": history, \"context\": documents, \"question\": rephrased_query}\n",
    "    )\n",
    "\n",
    "    generation = response.content.strip()\n",
    "\n",
    "    state[\"messages\"].append(AIMessage(content=generation))\n",
    "    print(f\"HealthGuru: {generation}\")\n",
    "    return state"
   ]
  },
  {
   "cell_type": "code",
   "execution_count": 199,
   "id": "eaa788db",
   "metadata": {},
   "outputs": [],
   "source": [
    "tavily_search = TavilySearchResults(max_results=3)"
   ]
  },
  {
   "cell_type": "code",
   "execution_count": 200,
   "id": "1039ab6c",
   "metadata": {},
   "outputs": [],
   "source": [
    "def websearch(state: AgentState):\n",
    "    print(\"Entering web_search fallback\")\n",
    "    \n",
    "    tavily_tool = TavilySearchResults()\n",
    "    try:\n",
    "        results = tavily_tool.invoke({\"query\": state[\"enhanced_query\"]})\n",
    "    except Exception as e:\n",
    "        print(f\"web_search: Tavily API failed - {e}\")\n",
    "        state[\"documents\"] = []\n",
    "        state[\"proceed_to_generate\"] = False\n",
    "        return state\n",
    "\n",
    "    if not results:\n",
    "        print(\"web_search: No results returned from Tavily.\")\n",
    "        state[\"documents\"] = []\n",
    "        state[\"proceed_to_generate\"] = False\n",
    "        return state\n",
    "\n",
    "    docs = [\n",
    "        Document(\n",
    "            page_content=res[\"content\"],\n",
    "            metadata={\"source\": res[\"url\"], \"source_type\": \"websearch\"}\n",
    "        )\n",
    "        for res in results if res.get(\"content\")\n",
    "    ]\n",
    "\n",
    "    print(f\"From the websearch\")\n",
    "    # print(docs)\n",
    "\n",
    "    state[\"documents\"] = docs\n",
    "    state[\"proceed_to_generate\"] = len(docs) > 0\n",
    "    return state\n"
   ]
  },
  {
   "cell_type": "code",
   "execution_count": 201,
   "id": "bb0da2cb",
   "metadata": {},
   "outputs": [],
   "source": [
    "def off_topic_response(state: AgentState):\n",
    "    print(\"Entering off_topic_response\")\n",
    "    if \"messages\" not in state or state[\"messages\"] is None:\n",
    "        state[\"messages\"] = []\n",
    "    state[\"messages\"].append(AIMessage(content=\"I'm sorry! I am an health assistant Please ask realted to health topics.\"))\n",
    "    return state\n",
    "\n"
   ]
  },
  {
   "cell_type": "code",
   "execution_count": 202,
   "id": "0e52b78b",
   "metadata": {},
   "outputs": [],
   "source": [
    "def clear_state(state: AgentState):\n",
    "    state[\"messages\"] = []\n",
    "    state[\"documents\"] = []\n",
    "    state[\"on_topic\"] = \"\"\n",
    "    state[\"enhanced_query\"] = \"\"\n",
    "    state[\"proceed_to_generate\"] = False\n",
    "    state[\"rephrase_count\"] = 0\n",
    "\n",
    "# create state\n",
    "agent_state: AgentState = {\n",
    "    \"messages\": [],\n",
    "    \"documents\": [],\n",
    "    \"on_topic\": \"\",\n",
    "    \"enhanced_query\": \"\",\n",
    "    \"proceed_to_generate\": False,\n",
    "    \"rephrase_count\": 0\n",
    "}\n",
    "\n",
    "# clear state\n",
    "clear_state(agent_state)"
   ]
  },
  {
   "cell_type": "code",
   "execution_count": 203,
   "id": "745a61b8",
   "metadata": {},
   "outputs": [],
   "source": [
    "from langgraph.checkpoint.memory import MemorySaver\n",
    "\n",
    "checkpointer = MemorySaver()"
   ]
  },
  {
   "cell_type": "code",
   "execution_count": 222,
   "id": "1f2f8b42",
   "metadata": {},
   "outputs": [],
   "source": [
    "# Workflow\n",
    "workflow = StateGraph(AgentState)\n",
    "workflow.add_node(\"query_enhancer\", query_enhancer)\n",
    "workflow.add_node(\"query_classifier\", query_classifier)\n",
    "workflow.add_node(\"off_topic_response\", off_topic_response)\n",
    "workflow.add_node(\"retrieve\", retrieve)\n",
    "workflow.add_node(\"retrieval_grader\", retrieval_grader)\n",
    "workflow.add_node(\"generate_answer\", generate_answer)\n",
    "workflow.add_node(\"refine_query\", refine_query)\n",
    "workflow.add_node(\"websearch\", websearch)\n",
    "workflow.add_node(\"greeting_response\", greeting_response)\n",
    "\n",
    "workflow.add_edge(\"query_enhancer\", \"query_classifier\")\n",
    "workflow.add_conditional_edges(\n",
    "    \"query_classifier\",\n",
    "    on_topic_router,\n",
    "    {\n",
    "        \"retrieve\": \"retrieve\",\n",
    "        \"off_topic_response\": \"off_topic_response\",\n",
    "        \"greeting_response\": \"greeting_response\",\n",
    "    },\n",
    ")\n",
    "workflow.add_edge(\"retrieve\", \"retrieval_grader\")\n",
    "workflow.add_conditional_edges(\n",
    "    \"retrieval_grader\",\n",
    "    proceed_router,\n",
    "    {\n",
    "        \"generate_answer\": \"generate_answer\",\n",
    "        \"refine_query\": \"refine_query\",\n",
    "        \"websearch\": \"websearch\",\n",
    "    },\n",
    ")\n",
    "workflow.add_edge(\"greeting_response\", \"generate_answer\")\n",
    "workflow.add_edge(\"refine_query\", \"retrieve\")\n",
    "workflow.add_edge(\"generate_answer\", END)\n",
    "workflow.add_edge(\"websearch\", \"generate_answer\" )\n",
    "workflow.add_edge(\"off_topic_response\", \"generate_answer\")\n",
    "workflow.set_entry_point(\"query_enhancer\")\n",
    "app = workflow.compile(checkpointer=checkpointer)"
   ]
  },
  {
   "cell_type": "code",
   "execution_count": 223,
   "id": "1631c466",
   "metadata": {},
   "outputs": [
    {
     "data": {
      "image/png": "[encoded data removed]",
      "text/plain": [
       "<IPython.core.display.Image object>"
      ]
     },
     "metadata": {},
     "output_type": "display_data"
    }
   ],
   "source": [
    "from IPython .display import display, Image\n",
    "\n",
    "display(Image(app.get_graph().draw_mermaid_png()))"
   ]
  },
  {
   "cell_type": "code",
   "execution_count": 206,
   "id": "ce88b22b",
   "metadata": {},
   "outputs": [
    {
     "name": "stdout",
     "output_type": "stream",
     "text": [
      "Entering question_rewriter with following state: {'question': HumanMessage(content='the first body part that stops when humans die?', additional_kwargs={}, response_metadata={})}\n",
      "Entering question_classifier\n",
      "question_classifier: on_topic = No\n",
      "Entering on_topic_router\n",
      "Routing to off_topic_response\n",
      "Entering off_topic_response\n",
      "{'messages': [HumanMessage(content='the first body part that stops when humans die?', additional_kwargs={}, response_metadata={}), AIMessage(content=\"I'm sorry! I am an health assistant Please ask realted to health topics.\", additional_kwargs={}, response_metadata={})], 'documents': [], 'on_topic': 'No', 'enhanced_query': 'the first body part that stops when humans die?', 'proceed_to_generate': False, 'rephrase_count': 0, 'question': HumanMessage(content='the first body part that stops when humans die?', additional_kwargs={}, response_metadata={})}\n"
     ]
    }
   ],
   "source": [
    "input_data = {\n",
    "    \"question\": HumanMessage(content=\"the first body part that stops when humans die?\")\n",
    "}\n",
    "response=app.invoke(input=input_data, config={\"configurable\": {\"thread_id\": 3}})\n",
    "print(response)"
   ]
  },
  {
   "cell_type": "code",
   "execution_count": 207,
   "id": "eb42df0d",
   "metadata": {},
   "outputs": [
    {
     "name": "stdout",
     "output_type": "stream",
     "text": [
      "Entering question_rewriter with following state: {'messages': [HumanMessage(content='the first body part that stops when humans die?', additional_kwargs={}, response_metadata={}), AIMessage(content=\"I'm sorry! I am an health assistant Please ask realted to health topics.\", additional_kwargs={}, response_metadata={})], 'documents': [], 'on_topic': 'No', 'enhanced_query': 'the first body part that stops when humans die?', 'proceed_to_generate': False, 'rephrase_count': 0, 'question': HumanMessage(content='what changes needs to bring in his lifestyle?', additional_kwargs={}, response_metadata={})}\n",
      "Entering question_classifier\n",
      "question_classifier: on_topic = Yes\n",
      "Entering on_topic_router\n",
      "Routing to retrieve\n",
      "Entering retrieve\n",
      "Entering retrieval_grader\n",
      "retrieval_grader: proceed_to_generate = True\n",
      "Entering proceed_router\n",
      "Relevant documents found. Routing to generate_answer.\n",
      "Entering generate_answer\n",
      "HealthGuru: To improve someone's health, several lifestyle changes can be beneficial:\n",
      "\n",
      "*   **Dietary modifications:** This includes reducing carbohydrates and fats while increasing the intake of fruits and vegetables. A healthcare professional, such as a dietician, can help calculate specific dietary requirements.\n",
      "*   **Increased physical activity:** Aim for at least 30 minutes of brisk walking at least three times a week. Regular exercise, such as sports or gym activities, is also recommended.\n",
      "*   **Reduced alcohol consumption:** It's encouraged to reduce or stop alcohol intake.\n",
      "*   **Smoking cessation:** Stopping smoking is highly recommended.\n",
      "*   **Stress management:** Reducing anxiety and emotional stress can also contribute to improved health.\n",
      "*   **Frequent meals:** Eating small, more frequent meals can be beneficial.\n",
      "{'messages': [HumanMessage(content='the first body part that stops when humans die?', additional_kwargs={}, response_metadata={}), AIMessage(content=\"I'm sorry! I am an health assistant Please ask realted to health topics.\", additional_kwargs={}, response_metadata={}), HumanMessage(content='what changes needs to bring in his lifestyle?', additional_kwargs={}, response_metadata={}), AIMessage(content=\"To improve someone's health, several lifestyle changes can be beneficial:\\n\\n*   **Dietary modifications:** This includes reducing carbohydrates and fats while increasing the intake of fruits and vegetables. A healthcare professional, such as a dietician, can help calculate specific dietary requirements.\\n*   **Increased physical activity:** Aim for at least 30 minutes of brisk walking at least three times a week. Regular exercise, such as sports or gym activities, is also recommended.\\n*   **Reduced alcohol consumption:** It's encouraged to reduce or stop alcohol intake.\\n*   **Smoking cessation:** Stopping smoking is highly recommended.\\n*   **Stress management:** Reducing anxiety and emotional stress can also contribute to improved health.\\n*   **Frequent meals:** Eating small, more frequent meals can be beneficial.\", additional_kwargs={}, response_metadata={})], 'documents': [Document(id='6b135e4c-583c-4147-af69-9d880da7831c', metadata={'creationdate': '', 'creator': 'PyPDF', 'moddate': '2025-04-07T03:14:44+00:00', 'page': 229.0, 'page_label': '230', 'producer': 'iLovePDF', 'source': 'Data\\\\05. Standard treatment guidelines and essential medicines list author Various authors_removed.pdf', 'total_pages': 401.0}, page_content='fibers)  \\no Increase physical activeness levels e.g. brisk walking 30 minutes at least three \\ntimes a week \\no Encourage reduction and stoppage of alcohol intake \\no Encourage to stop smoking \\nNote: Regular ongoing blood glucose level monitoring is recommended \\n \\nDiabetic Diet \\nIdeally a dietician should calculate dietary requirements for individual patient. The aim of diet \\ncontrol is to reduce the blood sugar to normal and maintain a constant blood sugar leve l. 45-'), Document(id='89bc34ec-344b-4a52-9c01-960993f383b1', metadata={'creationdate': '', 'creator': 'PyPDF', 'moddate': '2025-04-07T03:14:44+00:00', 'page': 374.0, 'page_label': '375', 'producer': 'iLovePDF', 'source': 'Data\\\\05. Standard treatment guidelines and essential medicines list author Various authors_removed.pdf', 'total_pages': 401.0}, page_content='367 | P a g e  \\n \\nDietary and lifestyle measures \\n \\nNutrition counseling focusing on: \\n\\uf0b7 Diet modification (less carbohydrates and fats, more fruits and vegetables). \\n\\uf0b7 Less alcohol consumption \\n\\uf0b7 More active life to increase energy expenditure (physical work, physical activities, \\nexercises such as sports and gym) \\n2.0 ANAEMIA \\nAnaemia is a pathological condition arising as a result of low level of haemoglobin in the body.'), Document(id='bc713419-bbcf-48aa-9649-527e28874c0c', metadata={'creationdate': '', 'creator': 'PyPDF', 'moddate': '2025-04-07T03:16:38+00:00', 'page': 218.0, 'page_label': '219', 'producer': 'iLovePDF', 'source': 'Data\\\\Internal Medicine, Getachew Tizazu, Tadesse Anteneh_removed.pdf', 'total_pages': 585.0}, page_content='Internal Medicine \\n \\n \\n214\\n4. Prevention of deterioration of myocardial function (slowing  progression of heart \\nfailure )  \\n5. Treat the underlying cause  \\nA. General measures :  \\n• Dietary sodium restriction  should be implemented in all patients with congestive \\nheart failure to < 3 g/d.  \\n• Activity and life style modification  :  \\no Meals should be small in quantity but more frequent. \\no Reduce anxiety and emotional stress')], 'on_topic': 'Yes', 'enhanced_query': \"AI: What lifestyle changes can improve someone's health?\", 'proceed_to_generate': True, 'rephrase_count': 0, 'question': HumanMessage(content='what changes needs to bring in his lifestyle?', additional_kwargs={}, response_metadata={})}\n"
     ]
    }
   ],
   "source": [
    "input_data = {\n",
    "    \"question\": HumanMessage(content=\"what changes needs to bring in his lifestyle?\")\n",
    "}\n",
    "response=app.invoke(input=input_data, config={\"configurable\": {\"thread_id\": 3}})\n",
    "print(response)"
   ]
  },
  {
   "cell_type": "code",
   "execution_count": 208,
   "id": "90928948",
   "metadata": {},
   "outputs": [
    {
     "name": "stdout",
     "output_type": "stream",
     "text": [
      "Entering question_rewriter with following state: {'messages': [HumanMessage(content='the first body part that stops when humans die?', additional_kwargs={}, response_metadata={}), AIMessage(content=\"I'm sorry! I am an health assistant Please ask realted to health topics.\", additional_kwargs={}, response_metadata={}), HumanMessage(content='what changes needs to bring in his lifestyle?', additional_kwargs={}, response_metadata={}), AIMessage(content=\"To improve someone's health, several lifestyle changes can be beneficial:\\n\\n*   **Dietary modifications:** This includes reducing carbohydrates and fats while increasing the intake of fruits and vegetables. A healthcare professional, such as a dietician, can help calculate specific dietary requirements.\\n*   **Increased physical activity:** Aim for at least 30 minutes of brisk walking at least three times a week. Regular exercise, such as sports or gym activities, is also recommended.\\n*   **Reduced alcohol consumption:** It's encouraged to reduce or stop alcohol intake.\\n*   **Smoking cessation:** Stopping smoking is highly recommended.\\n*   **Stress management:** Reducing anxiety and emotional stress can also contribute to improved health.\\n*   **Frequent meals:** Eating small, more frequent meals can be beneficial.\", additional_kwargs={}, response_metadata={})], 'documents': [Document(id='6b135e4c-583c-4147-af69-9d880da7831c', metadata={'creationdate': '', 'creator': 'PyPDF', 'moddate': '2025-04-07T03:14:44+00:00', 'page': 229.0, 'page_label': '230', 'producer': 'iLovePDF', 'source': 'Data\\\\05. Standard treatment guidelines and essential medicines list author Various authors_removed.pdf', 'total_pages': 401.0}, page_content='fibers)  \\no Increase physical activeness levels e.g. brisk walking 30 minutes at least three \\ntimes a week \\no Encourage reduction and stoppage of alcohol intake \\no Encourage to stop smoking \\nNote: Regular ongoing blood glucose level monitoring is recommended \\n \\nDiabetic Diet \\nIdeally a dietician should calculate dietary requirements for individual patient. The aim of diet \\ncontrol is to reduce the blood sugar to normal and maintain a constant blood sugar leve l. 45-'), Document(id='89bc34ec-344b-4a52-9c01-960993f383b1', metadata={'creationdate': '', 'creator': 'PyPDF', 'moddate': '2025-04-07T03:14:44+00:00', 'page': 374.0, 'page_label': '375', 'producer': 'iLovePDF', 'source': 'Data\\\\05. Standard treatment guidelines and essential medicines list author Various authors_removed.pdf', 'total_pages': 401.0}, page_content='367 | P a g e  \\n \\nDietary and lifestyle measures \\n \\nNutrition counseling focusing on: \\n\\uf0b7 Diet modification (less carbohydrates and fats, more fruits and vegetables). \\n\\uf0b7 Less alcohol consumption \\n\\uf0b7 More active life to increase energy expenditure (physical work, physical activities, \\nexercises such as sports and gym) \\n2.0 ANAEMIA \\nAnaemia is a pathological condition arising as a result of low level of haemoglobin in the body.'), Document(id='bc713419-bbcf-48aa-9649-527e28874c0c', metadata={'creationdate': '', 'creator': 'PyPDF', 'moddate': '2025-04-07T03:16:38+00:00', 'page': 218.0, 'page_label': '219', 'producer': 'iLovePDF', 'source': 'Data\\\\Internal Medicine, Getachew Tizazu, Tadesse Anteneh_removed.pdf', 'total_pages': 585.0}, page_content='Internal Medicine \\n \\n \\n214\\n4. Prevention of deterioration of myocardial function (slowing  progression of heart \\nfailure )  \\n5. Treat the underlying cause  \\nA. General measures :  \\n• Dietary sodium restriction  should be implemented in all patients with congestive \\nheart failure to < 3 g/d.  \\n• Activity and life style modification  :  \\no Meals should be small in quantity but more frequent. \\no Reduce anxiety and emotional stress')], 'on_topic': 'Yes', 'enhanced_query': \"AI: What lifestyle changes can improve someone's health?\", 'proceed_to_generate': True, 'rephrase_count': 0, 'question': HumanMessage(content='what meditions needs to take?', additional_kwargs={}, response_metadata={})}\n",
      "Entering question_classifier\n",
      "question_classifier: on_topic = Yes\n",
      "Entering on_topic_router\n",
      "Routing to retrieve\n",
      "Entering retrieve\n",
      "Entering retrieval_grader\n",
      "retrieval_grader: proceed_to_generate = True\n",
      "Entering proceed_router\n",
      "Relevant documents found. Routing to generate_answer.\n",
      "Entering generate_answer\n",
      "HealthGuru: I am sorry, I am an health assistant. I can provide information on medications for specific conditions. Based on the context, I can tell you that Thiazides (e.g., Hydrochlorothiazide) are preferred for uncomplicated hypertension, systolic hypertension in elderly people, and older diabetic patients without nephropathy. ACE inhibitors are recommended as an initial treatment in certain hypertension situations.\n",
      "\n",
      "If you have a specific health condition in mind, please provide more details so I can offer more relevant information.\n",
      "{'messages': [HumanMessage(content='the first body part that stops when humans die?', additional_kwargs={}, response_metadata={}), AIMessage(content=\"I'm sorry! I am an health assistant Please ask realted to health topics.\", additional_kwargs={}, response_metadata={}), HumanMessage(content='what changes needs to bring in his lifestyle?', additional_kwargs={}, response_metadata={}), AIMessage(content=\"To improve someone's health, several lifestyle changes can be beneficial:\\n\\n*   **Dietary modifications:** This includes reducing carbohydrates and fats while increasing the intake of fruits and vegetables. A healthcare professional, such as a dietician, can help calculate specific dietary requirements.\\n*   **Increased physical activity:** Aim for at least 30 minutes of brisk walking at least three times a week. Regular exercise, such as sports or gym activities, is also recommended.\\n*   **Reduced alcohol consumption:** It's encouraged to reduce or stop alcohol intake.\\n*   **Smoking cessation:** Stopping smoking is highly recommended.\\n*   **Stress management:** Reducing anxiety and emotional stress can also contribute to improved health.\\n*   **Frequent meals:** Eating small, more frequent meals can be beneficial.\", additional_kwargs={}, response_metadata={}), HumanMessage(content='what meditions needs to take?', additional_kwargs={}, response_metadata={}), AIMessage(content='I am sorry, I am an health assistant. I can provide information on medications for specific conditions. Based on the context, I can tell you that Thiazides (e.g., Hydrochlorothiazide) are preferred for uncomplicated hypertension, systolic hypertension in elderly people, and older diabetic patients without nephropathy. ACE inhibitors are recommended as an initial treatment in certain hypertension situations.\\n\\nIf you have a specific health condition in mind, please provide more details so I can offer more relevant information.', additional_kwargs={}, response_metadata={})], 'documents': [Document(id='70eb3bf7-0b63-487a-b151-41c4e2ef34c8', metadata={'creationdate': '', 'creator': 'PyPDF', 'moddate': '2025-04-07T03:16:38+00:00', 'page': 268.0, 'page_label': '269', 'producer': 'iLovePDF', 'source': 'Data\\\\Internal Medicine, Getachew Tizazu, Tadesse Anteneh_removed.pdf', 'total_pages': 585.0}, page_content='Internal Medicine \\n \\n \\n264\\nChoice of anti hypertensive drugs in certain situations for which a specific class of drug \\nmay be administered. \\n• Thiazides (e.g.Hydrochlorothiazide):is the preferred therapy for uncomplicated \\nhypertension ,  systolic hypertension in elderly people and  older diabetic patients \\nwithout nephropathy \\n• ACE inhibitor: should be the initial treatment in situations in which hypertension is')], 'on_topic': 'Yes', 'enhanced_query': 'What medications are commonly prescribed for various health conditions?', 'proceed_to_generate': True, 'rephrase_count': 0, 'question': HumanMessage(content='what meditions needs to take?', additional_kwargs={}, response_metadata={})}\n"
     ]
    }
   ],
   "source": [
    "input_data = {\n",
    "    \"question\": HumanMessage(content=\"what meditions needs to take?\")\n",
    "}\n",
    "response=app.invoke(input=input_data, config={\"configurable\": {\"thread_id\": 3}})\n",
    "print(response)"
   ]
  },
  {
   "cell_type": "code",
   "execution_count": 209,
   "id": "59a2dc41",
   "metadata": {},
   "outputs": [
    {
     "name": "stdout",
     "output_type": "stream",
     "text": [
      "Entering question_rewriter with following state: {'messages': [HumanMessage(content='the first body part that stops when humans die?', additional_kwargs={}, response_metadata={}), AIMessage(content=\"I'm sorry! I am an health assistant Please ask realted to health topics.\", additional_kwargs={}, response_metadata={}), HumanMessage(content='what changes needs to bring in his lifestyle?', additional_kwargs={}, response_metadata={}), AIMessage(content=\"To improve someone's health, several lifestyle changes can be beneficial:\\n\\n*   **Dietary modifications:** This includes reducing carbohydrates and fats while increasing the intake of fruits and vegetables. A healthcare professional, such as a dietician, can help calculate specific dietary requirements.\\n*   **Increased physical activity:** Aim for at least 30 minutes of brisk walking at least three times a week. Regular exercise, such as sports or gym activities, is also recommended.\\n*   **Reduced alcohol consumption:** It's encouraged to reduce or stop alcohol intake.\\n*   **Smoking cessation:** Stopping smoking is highly recommended.\\n*   **Stress management:** Reducing anxiety and emotional stress can also contribute to improved health.\\n*   **Frequent meals:** Eating small, more frequent meals can be beneficial.\", additional_kwargs={}, response_metadata={}), HumanMessage(content='what meditions needs to take?', additional_kwargs={}, response_metadata={}), AIMessage(content='I am sorry, I am an health assistant. I can provide information on medications for specific conditions. Based on the context, I can tell you that Thiazides (e.g., Hydrochlorothiazide) are preferred for uncomplicated hypertension, systolic hypertension in elderly people, and older diabetic patients without nephropathy. ACE inhibitors are recommended as an initial treatment in certain hypertension situations.\\n\\nIf you have a specific health condition in mind, please provide more details so I can offer more relevant information.', additional_kwargs={}, response_metadata={})], 'documents': [Document(id='70eb3bf7-0b63-487a-b151-41c4e2ef34c8', metadata={'creationdate': '', 'creator': 'PyPDF', 'moddate': '2025-04-07T03:16:38+00:00', 'page': 268.0, 'page_label': '269', 'producer': 'iLovePDF', 'source': 'Data\\\\Internal Medicine, Getachew Tizazu, Tadesse Anteneh_removed.pdf', 'total_pages': 585.0}, page_content='Internal Medicine \\n \\n \\n264\\nChoice of anti hypertensive drugs in certain situations for which a specific class of drug \\nmay be administered. \\n• Thiazides (e.g.Hydrochlorothiazide):is the preferred therapy for uncomplicated \\nhypertension ,  systolic hypertension in elderly people and  older diabetic patients \\nwithout nephropathy \\n• ACE inhibitor: should be the initial treatment in situations in which hypertension is')], 'on_topic': 'Yes', 'enhanced_query': 'What medications are commonly prescribed for various health conditions?', 'proceed_to_generate': True, 'rephrase_count': 0, 'question': HumanMessage(content='how much sperm a healthy person release', additional_kwargs={}, response_metadata={})}\n",
      "Entering question_classifier\n",
      "question_classifier: on_topic = Yes\n",
      "Entering on_topic_router\n",
      "Routing to retrieve\n",
      "Entering retrieve\n",
      "Entering retrieval_grader\n",
      "retrieval_grader: proceed_to_generate = False\n",
      "Entering proceed_router\n",
      "No relevant docs. Will try refining the query.\n",
      "Entering refine_question\n",
      "refine_question: Refined question: Refined question: What is the typical volume of sperm released by a healthy person?\n",
      "Entering retrieve\n",
      "Entering retrieval_grader\n",
      "retrieval_grader: proceed_to_generate = False\n",
      "Entering proceed_router\n",
      "No relevant docs. Will try refining the query.\n",
      "Entering refine_question\n",
      "refine_question: Refined question: Refined question: What is the average sperm volume in a healthy male?\n",
      "Entering retrieve\n",
      "Entering retrieval_grader\n",
      "retrieval_grader: proceed_to_generate = False\n",
      "Entering proceed_router\n",
      "No relevant docs and rephrased 2 times. Routing to websearch.\n",
      "Entering web_search fallback\n",
      "From the websearch\n",
      "Entering generate_answer\n",
      "HealthGuru: A healthy male typically releases between 1.25 to 5 milliliters of semen during ejaculation, which is roughly ¼ to 1 teaspoon. The World Health Organization (WHO) considers the top percentile of semen volume to be around 6.2–6.9 ml, which is just over 1 teaspoon.\n",
      "{'messages': [HumanMessage(content='the first body part that stops when humans die?', additional_kwargs={}, response_metadata={}), AIMessage(content=\"I'm sorry! I am an health assistant Please ask realted to health topics.\", additional_kwargs={}, response_metadata={}), HumanMessage(content='what changes needs to bring in his lifestyle?', additional_kwargs={}, response_metadata={}), AIMessage(content=\"To improve someone's health, several lifestyle changes can be beneficial:\\n\\n*   **Dietary modifications:** This includes reducing carbohydrates and fats while increasing the intake of fruits and vegetables. A healthcare professional, such as a dietician, can help calculate specific dietary requirements.\\n*   **Increased physical activity:** Aim for at least 30 minutes of brisk walking at least three times a week. Regular exercise, such as sports or gym activities, is also recommended.\\n*   **Reduced alcohol consumption:** It's encouraged to reduce or stop alcohol intake.\\n*   **Smoking cessation:** Stopping smoking is highly recommended.\\n*   **Stress management:** Reducing anxiety and emotional stress can also contribute to improved health.\\n*   **Frequent meals:** Eating small, more frequent meals can be beneficial.\", additional_kwargs={}, response_metadata={}), HumanMessage(content='what meditions needs to take?', additional_kwargs={}, response_metadata={}), AIMessage(content='I am sorry, I am an health assistant. I can provide information on medications for specific conditions. Based on the context, I can tell you that Thiazides (e.g., Hydrochlorothiazide) are preferred for uncomplicated hypertension, systolic hypertension in elderly people, and older diabetic patients without nephropathy. ACE inhibitors are recommended as an initial treatment in certain hypertension situations.\\n\\nIf you have a specific health condition in mind, please provide more details so I can offer more relevant information.', additional_kwargs={}, response_metadata={}), HumanMessage(content='how much sperm a healthy person release', additional_kwargs={}, response_metadata={}), AIMessage(content='A healthy male typically releases between 1.25 to 5 milliliters of semen during ejaculation, which is roughly ¼ to 1 teaspoon. The World Health Organization (WHO) considers the top percentile of semen volume to be around 6.2–6.9 ml, which is just over 1 teaspoon.', additional_kwargs={}, response_metadata={})], 'documents': [Document(metadata={'source': 'https://www.givelegacy.com/resources/what-is-a-normal-sperm-count/', 'source_type': 'websearch'}, page_content='According to the World Health Organization, standard sperm count values are 39 million or more sperm with each ejaculation. A range of 20 to 150 million sperm per milliliter of semen (with normal semen volume varying from 1.5 to 5 milliliters with each ejaculation) is also considered normal.\\n\\nFactors that impact sperm count'), Document(metadata={'source': 'https://healthymale.org.au/health-article/semen-volume-normal', 'source_type': 'websearch'}, page_content='Semen is usually a whitish-grey colour and feels similar to runny jelly or raw egg. If your semen is red or brown in colour you might have\\xa0blood in your semen.\\n\\nWhat is a normal volume of semen?\\n\\nNormal is different for everyone, but on average, you release between 1.25 to 5 millilitres of semen when you ejaculate.\\n\\nThis is around a quarter of a teaspoon to one teaspoon. That might come as a surprise if you’re comparing that to what you see in porn. [...] Anorgasmia (delayed, infrequent or absent orgasms)\\n\\n\\n\\nHealth conditions such as diabetes\\n\\nHealth conditions such as diabetes\\n\\n\\n\\nAgeing\\n\\nAgeing\\n\\n\\n\\nProstate issues\\n\\nProstate issues\\n\\n\\n\\nDehydration\\n\\nDehydration\\n\\n\\n\\nAbsence of seminal vesicles\\n\\nAbsence of seminal vesicles\\n\\n\\n\\nGenetic abnormalities\\n\\nGenetic abnormalities\\n\\n\\n\\nSmoking\\n\\nSmoking [...] Semen is the fluid that comes out of your penis when you ejaculate or cum. Semen and sperm are not the same thing. Sperm are the male reproductive cells, which are capable of fertilising a woman’s egg and conceiving a baby.\\n\\nSemen has sperm in it, as well as fluid produced by the\\xa0prostate, seminal vesicles and bulbourethral glands\\xa0to protect the sperm cells and allow them to move more freely.\\n\\nWhat should semen look like?'), Document(metadata={'source': 'https://www.medicalnewstoday.com/articles/how-far-can-a-man-shoot', 'source_type': 'websearch'}, page_content='The International Society for Sexual Medicine suggests males expel, on average, 1.25–5 milliliters (ml) of semen each time they ejaculate. This is roughly ¼ to 1 teaspoon.\\n\\nThe volume a person ejaculates can affect how far it travels. Larger volumes may also create the illusion that ejaculate travels farther than it does.\\n\\nVarious internet sources may make claims about how forcefully and far a person can ejaculate. The porn industry may also contribute to this misinformation. [...] Factors such as strengthening the pelvic floor, increasing the time between ejaculations, and engaging in moderate exercise can lead to larger volumes of ejaculate.\\n\\nPeople can speak with a healthcare professional if they are concerned about the amount they ejaculate.\\n\\nWhat is the largest ejaculate volume?\\n\\nAccording to the World Health Organization (WHO), the top percentile of semen volume is around 6.2–6.9 ml, which is just over 1 teaspoon.\\n\\nSummary [...] In general, younger males tend to have more forceful ejaculations, while the average volume of ejaculate is roughly 2–5 cubic centimeters, which is up to the volume of a teaspoon.\\n\\nThis article explores the average volume, distance, force of ejaculate, and what factors affect them.\\n\\nA note about sex and gender\\n\\nSex and gender exist on spectrums. This article will use the terms “male,” “female,” or both to refer to sex assigned at birth. Learn more.\\n\\nAverage volume, distance, and force of semen'), Document(metadata={'source': 'https://www.healthline.com/health/mens-health/normal-sperm-count', 'source_type': 'websearch'}, page_content='A normal sperm count ranges from 15 million sperm to more than 200 million sperm per milliliter (mL) of semen. Anything less than 15 million sperm per milliliter, or 39 million sperm per ejaculate, is considered low. A low sperm count is often referred to as oligospermia. A high, or above average, sperm count is over 200 million sperm per millimeter. [...] | WHO reference range\\nTotal sperm count in ejaculate | 39–928 million\\nEjaculate volume | 1.5–7.6 mL\\nSperm concentration | 15–259 million per mL\\nTotal motility (progressive and non-progressive) | 40–81 percent\\nProgressive motility | 32–75 percent\\nSperm morphology | 4–48 percent\\nWhy does sperm count matter?'), Document(metadata={'source': 'https://drsupriyapuranikivf.com/blog/average-sperm-count-by-age/', 'source_type': 'websearch'}, page_content='Learn about the average sperm count by age, ranging from 55-75 million/mL in men aged 20-29, and tips for maintaining healthy sperm')], 'on_topic': 'Yes', 'enhanced_query': 'Refined question: What is the average sperm volume in a healthy male?', 'proceed_to_generate': True, 'rephrase_count': 2, 'question': HumanMessage(content='how much sperm a healthy person release', additional_kwargs={}, response_metadata={})}\n"
     ]
    }
   ],
   "source": [
    "input_data = {\n",
    "    \"question\": HumanMessage(content=\"how much sperm a healthy person release\")\n",
    "}\n",
    "response=app.invoke(input=input_data, config={\"configurable\": {\"thread_id\": 3}})\n",
    "print(response)"
   ]
  },
  {
   "cell_type": "code",
   "execution_count": 242,
   "id": "786ba1a8",
   "metadata": {},
   "outputs": [
    {
     "name": "stdout",
     "output_type": "stream",
     "text": [
      "Entering question_rewriter with following state: {'messages': [HumanMessage(content='the first body part that stops when humans die?', additional_kwargs={}, response_metadata={}), AIMessage(content=\"I'm sorry! I am an health assistant Please ask realted to health topics.\", additional_kwargs={}, response_metadata={}), HumanMessage(content='what changes needs to bring in his lifestyle?', additional_kwargs={}, response_metadata={}), AIMessage(content=\"To improve someone's health, several lifestyle changes can be beneficial:\\n\\n*   **Dietary modifications:** This includes reducing carbohydrates and fats while increasing the intake of fruits and vegetables. A healthcare professional, such as a dietician, can help calculate specific dietary requirements.\\n*   **Increased physical activity:** Aim for at least 30 minutes of brisk walking at least three times a week. Regular exercise, such as sports or gym activities, is also recommended.\\n*   **Reduced alcohol consumption:** It's encouraged to reduce or stop alcohol intake.\\n*   **Smoking cessation:** Stopping smoking is highly recommended.\\n*   **Stress management:** Reducing anxiety and emotional stress can also contribute to improved health.\\n*   **Frequent meals:** Eating small, more frequent meals can be beneficial.\", additional_kwargs={}, response_metadata={}), HumanMessage(content='what meditions needs to take?', additional_kwargs={}, response_metadata={}), AIMessage(content='I am sorry, I am an health assistant. I can provide information on medications for specific conditions. Based on the context, I can tell you that Thiazides (e.g., Hydrochlorothiazide) are preferred for uncomplicated hypertension, systolic hypertension in elderly people, and older diabetic patients without nephropathy. ACE inhibitors are recommended as an initial treatment in certain hypertension situations.\\n\\nIf you have a specific health condition in mind, please provide more details so I can offer more relevant information.', additional_kwargs={}, response_metadata={}), HumanMessage(content='how much sperm a healthy person release', additional_kwargs={}, response_metadata={}), AIMessage(content='A healthy male typically releases between 1.25 to 5 milliliters of semen during ejaculation, which is roughly ¼ to 1 teaspoon. The World Health Organization (WHO) considers the top percentile of semen volume to be around 6.2–6.9 ml, which is just over 1 teaspoon.', additional_kwargs={}, response_metadata={}), HumanMessage(content='what if more than that?', additional_kwargs={}, response_metadata={}), HumanMessage(content='what is cancer', additional_kwargs={}, response_metadata={}), AIMessage(content='Cancer is a word covering a wide range of malignant diseases. It contributes significantly to the overall morbidity and mortality of people worldwide.', additional_kwargs={}, response_metadata={}), HumanMessage(content='a landscape with mountains, trees, and water.', additional_kwargs={}, response_metadata={}), AIMessage(content=\"I'm sorry! I am an health assistant Please ask realted to health topics.\", additional_kwargs={}, response_metadata={}), HumanMessage(content='Person has a problem with acne.', additional_kwargs={}, response_metadata={}), AIMessage(content=\"For acne, the following are recommended:\\n\\n**Lifestyle Changes:**\\n\\n*   Encourage a healthy lifestyle including exercise, sunshine, and a good diet.\\n*   Seek to identify and address underlying causes, such as stress, overuse of ointments, or certain medications like steroids or anticonvulsants.\\n\\n**Treatments:**\\n\\n*   Use ordinary soap. Avoid harsh antibacterial cleansers or iodine-containing preparations, as they may worsen acne.\\n*   **Treatment of choice:**\\n    *   Benzoyl peroxide 2.5% gel applied topically at night for 3-6 months.\\n    *   Plus Doxycycline (O) 100 mg once daily for 2-4 months.\\n    *   OR Retinoic acid topically 0.025-0.05% at night.\\n*   If the acne doesn't improve, refer to a specialist for oral retinoids (isotretinoin 0.5 -1mg/kg) and further assessment.\", additional_kwargs={}, response_metadata={}), HumanMessage(content='**The image depicts a person with acne on their face, which is the main problem or issue.**', additional_kwargs={}, response_metadata={}), AIMessage(content=\"For acne, the following treatments are recommended:\\n\\n*   Use ordinary soap. Avoid harsh antibacterial cleansers or iodine-containing preparations, as they may worsen acne.\\n*   **Treatment of choice:**\\n    *   Benzoyl peroxide 2.5% gel applied topically at night for 3-6 months.\\n    *   Plus Doxycycline (O) 100 mg once daily for 2-4 months.\\n    *   OR Retinoic acid topically 0.025-0.05% at night.\\n*   If the acne doesn't improve, refer to a specialist for oral retinoids (isotretinoin 0.5 -1mg/kg) and further assessment.\", additional_kwargs={}, response_metadata={}), HumanMessage(content='The medicine name is Paracetamol Tablets IP, and the main description given on the package includes the brand name Dolo-650 and the active ingredient 650mg of Paracetamol.', additional_kwargs={}, response_metadata={}), HumanMessage(content='The main context of this image is a box of Paracetamol Tablets IP, specifically Dolo-650, which is a type of pain reliever. The image shows the packaging and pills, indicating that it is a medical product.', additional_kwargs={}, response_metadata={}), AIMessage(content='Paracetamol Tablets IP (Dolo-650) are a type of pain reliever.\\n\\nBased on the provided context, potential side effects include:\\n\\n*   Dizziness\\n*   Fatigue\\n*   Anorexia\\n*   Nausea\\n*   Vomiting\\n*   Abdominal pain\\n*   Palpitations\\n*   Myalgia\\n*   Sleep disorders\\n*   Arthralgia\\n*   Headache\\n*   Rash', additional_kwargs={}, response_metadata={}), HumanMessage(content='This image shows a 3D rendering of the novel coronavirus (COVID-19), with red and gray spikes protruding from a central sphere.', additional_kwargs={}, response_metadata={}), AIMessage(content=\"The major structural components of the SARS-CoV-2 virus include:\\n\\n*   **S glycoprotein:** This is represented using a cartoon representation of its molecular structure.\\n*   **E and M proteins:** These are depicted with colored shapes.\\n*   **Nucleocapsid (N) protein:** This is the major structural component of the virion and is involved in viral replication, assembly, and immune response. The nucleocapsid protein binding to viral RNA is represented by a cartoon representation of the molecular structure of its N-terminal domain, while the C-terminal domain is depicted with a colored sphere.\\n\\n3D structures of the virus's proteins provide atomic-resolution information crucial for developing vaccines or treatments. Scientists have determined around a thousand 3D structures of the virus's 27 individual proteins. A new visualization method called a structural coverage map highlights what is known about SARS-CoV-2 and what is still left to uncover.\", additional_kwargs={}, response_metadata={}), HumanMessage(content='It shows the Novel Coronavirus (COVID-19).', additional_kwargs={}, response_metadata={})], 'documents': [Document(id='7cf6dd6e-1f4d-42bb-9fb4-b534ed3ea5be', metadata={'creationdate': '', 'creator': 'PyPDF', 'moddate': '2025-04-07T03:16:38+00:00', 'page': 403.0, 'page_label': '404', 'producer': 'iLovePDF', 'source': 'Data\\\\Internal Medicine, Getachew Tizazu, Tadesse Anteneh_removed.pdf', 'total_pages': 585.0}, page_content='Internal Medicine \\n \\n \\n399\\nEtiologies   \\n1) Chronic inflammatory diseases  \\na) Infections e.g. pulmonary abscess, TB, Osteomyelitis, pneumonia, bacterial \\nendocarditis  \\nb) Non infectious, e.g. Rheumatoid arthritis, SLE (systemic lupus erythematous) and other \\nconnective tissue diseases, sarcoidosis, Crohn’s disease  \\n2) Malignant diseases  \\nE.g. carcinoma, lymphoma, sarcoma  \\n \\nCharacteristic features are: \\n• NCNC or mildly hypochromic indices and red cell morphology'), Document(id='4e5bef74-5042-4f4a-a206-2acafe8df1c5', metadata={'creationdate': '', 'creator': 'PyPDF', 'moddate': '2025-04-07T03:14:44+00:00', 'page': 337.0, 'page_label': '338', 'producer': 'iLovePDF', 'source': 'Data\\\\05. Standard treatment guidelines and essential medicines list author Various authors_removed.pdf', 'total_pages': 401.0}, page_content='immune system. The clinical features may be due to HIV per se or as a result of immune \\nsystem destruction. \\n \\nDiagnosis \\n\\uf0b7 Fever, diarrhoea, weight loss, skin rashes, sores, generalized pruritis, altered mental \\nstatus, persistent severe headache, oral thrush or Kaposi’s sarcoma may be found in \\npatients with advanced disease \\n\\uf0b7 Most patients, however, present with symptoms due to opportunistic infections  e.g. \\ntuberculosis, candidiasis or pyogenic infections.'), Document(id='9cad5267-9163-463f-acc3-01bd51a9bfeb', metadata={'creationdate': '', 'creator': 'PyPDF', 'moddate': '2025-04-07T03:16:38+00:00', 'page': 185.0, 'page_label': '186', 'producer': 'iLovePDF', 'source': 'Data\\\\Internal Medicine, Getachew Tizazu, Tadesse Anteneh_removed.pdf', 'total_pages': 585.0}, page_content='Internal Medicine \\n \\n \\n181\\nDifferential diagnosis includes:  \\n• In children : foreign body obstruction, viral URTI involving the epiglottis (croup), and \\nbronchiolitis (RSV infection);  \\n• In adults : COPD, heart failure, endobronchial TB, and malignancies. Physical \\nexamination should search for heart failure and signs of chronic hypoxemia (clubbing). \\nUnilateral wheezes usually indicate obstruction by foreign bodies or tumor. \\nPrevention of attacks'), Document(id='9edcafed-73e0-4c7b-9fa6-847934ae4cc2', metadata={'creationdate': '', 'creator': 'PyPDF', 'moddate': '2025-04-07T03:14:44+00:00', 'page': 322.0, 'page_label': '323', 'producer': 'iLovePDF', 'source': 'Data\\\\05. Standard treatment guidelines and essential medicines list author Various authors_removed.pdf', 'total_pages': 401.0}, page_content='Refer also to specific disease flow chart (section 12 below)'), Document(id='cfa097fe-ffce-4365-9376-163f01172ede', metadata={'creationdate': '', 'creator': 'PyPDF', 'moddate': '2025-04-07T03:14:44+00:00', 'page': 289.0, 'page_label': '290', 'producer': 'iLovePDF', 'source': 'Data\\\\05. Standard treatment guidelines and essential medicines list author Various authors_removed.pdf', 'total_pages': 401.0}, page_content=\"282 | P a g e  \\n \\n\\uf0b7 Hepatomegally and/or splenomegally in advanced stages.  \\n\\uf0b7  B-symptoms:Unexplained weight loss,fever, night sweats  \\n\\uf0b7 Coughing, trouble breathing, or chest pain in case of SVCO. \\n\\uf0b7 Weakness and tiredness that don't go away (advanced disease) \\n\\uf0b7 Pain, swelling, or a feeling of fullness in the abdomen (advanced disease) \\nNOTE: 1. Presence of B symptoms signifies disease aggressiveness. \\n \\n    2.NHL is an AIDS-defining malignancy \\n \\nInvestigations:\")], 'on_topic': 'Yes', 'enhanced_query': 'What are the key features, symptoms, and diagnostic methods for SARS-CoV-2 infection and COVID-19?', 'proceed_to_generate': False, 'rephrase_count': 2, 'question': HumanMessage(content='what if more than that?', additional_kwargs={}, response_metadata={})}\n",
      "Entering question_classifier\n",
      "question_classifier: on_topic = Yes\n",
      "Entering on_topic_router\n",
      "Routing to retrieve\n",
      "Entering retrieve\n",
      "Entering retrieval_grader\n",
      "retrieval_grader: proceed_to_generate = True\n",
      "Entering proceed_router\n",
      "Relevant documents found. Routing to generate_answer.\n",
      "Entering generate_answer\n",
      "HealthGuru: Okay, I understand. I am a health assistant and can provide information on medications for specific conditions. Based on the provided context, Thiazides (like Hydrochlorothiazide) are preferred for uncomplicated hypertension, systolic hypertension in elderly people, and older diabetic patients without nephropathy. ACE inhibitors are also recommended as an initial treatment in certain hypertension situations.\n",
      "\n",
      "If you have a specific health condition, please tell me more so I can provide more relevant information.\n",
      "{'messages': [HumanMessage(content='the first body part that stops when humans die?', additional_kwargs={}, response_metadata={}), AIMessage(content=\"I'm sorry! I am an health assistant Please ask realted to health topics.\", additional_kwargs={}, response_metadata={}), HumanMessage(content='what changes needs to bring in his lifestyle?', additional_kwargs={}, response_metadata={}), AIMessage(content=\"To improve someone's health, several lifestyle changes can be beneficial:\\n\\n*   **Dietary modifications:** This includes reducing carbohydrates and fats while increasing the intake of fruits and vegetables. A healthcare professional, such as a dietician, can help calculate specific dietary requirements.\\n*   **Increased physical activity:** Aim for at least 30 minutes of brisk walking at least three times a week. Regular exercise, such as sports or gym activities, is also recommended.\\n*   **Reduced alcohol consumption:** It's encouraged to reduce or stop alcohol intake.\\n*   **Smoking cessation:** Stopping smoking is highly recommended.\\n*   **Stress management:** Reducing anxiety and emotional stress can also contribute to improved health.\\n*   **Frequent meals:** Eating small, more frequent meals can be beneficial.\", additional_kwargs={}, response_metadata={}), HumanMessage(content='what meditions needs to take?', additional_kwargs={}, response_metadata={}), AIMessage(content='I am sorry, I am an health assistant. I can provide information on medications for specific conditions. Based on the context, I can tell you that Thiazides (e.g., Hydrochlorothiazide) are preferred for uncomplicated hypertension, systolic hypertension in elderly people, and older diabetic patients without nephropathy. ACE inhibitors are recommended as an initial treatment in certain hypertension situations.\\n\\nIf you have a specific health condition in mind, please provide more details so I can offer more relevant information.', additional_kwargs={}, response_metadata={}), HumanMessage(content='how much sperm a healthy person release', additional_kwargs={}, response_metadata={}), AIMessage(content='A healthy male typically releases between 1.25 to 5 milliliters of semen during ejaculation, which is roughly ¼ to 1 teaspoon. The World Health Organization (WHO) considers the top percentile of semen volume to be around 6.2–6.9 ml, which is just over 1 teaspoon.', additional_kwargs={}, response_metadata={}), HumanMessage(content='what if more than that?', additional_kwargs={}, response_metadata={}), HumanMessage(content='what is cancer', additional_kwargs={}, response_metadata={}), AIMessage(content='Cancer is a word covering a wide range of malignant diseases. It contributes significantly to the overall morbidity and mortality of people worldwide.', additional_kwargs={}, response_metadata={}), HumanMessage(content='a landscape with mountains, trees, and water.', additional_kwargs={}, response_metadata={}), AIMessage(content=\"I'm sorry! I am an health assistant Please ask realted to health topics.\", additional_kwargs={}, response_metadata={}), HumanMessage(content='Person has a problem with acne.', additional_kwargs={}, response_metadata={}), AIMessage(content=\"For acne, the following are recommended:\\n\\n**Lifestyle Changes:**\\n\\n*   Encourage a healthy lifestyle including exercise, sunshine, and a good diet.\\n*   Seek to identify and address underlying causes, such as stress, overuse of ointments, or certain medications like steroids or anticonvulsants.\\n\\n**Treatments:**\\n\\n*   Use ordinary soap. Avoid harsh antibacterial cleansers or iodine-containing preparations, as they may worsen acne.\\n*   **Treatment of choice:**\\n    *   Benzoyl peroxide 2.5% gel applied topically at night for 3-6 months.\\n    *   Plus Doxycycline (O) 100 mg once daily for 2-4 months.\\n    *   OR Retinoic acid topically 0.025-0.05% at night.\\n*   If the acne doesn't improve, refer to a specialist for oral retinoids (isotretinoin 0.5 -1mg/kg) and further assessment.\", additional_kwargs={}, response_metadata={}), HumanMessage(content='**The image depicts a person with acne on their face, which is the main problem or issue.**', additional_kwargs={}, response_metadata={}), AIMessage(content=\"For acne, the following treatments are recommended:\\n\\n*   Use ordinary soap. Avoid harsh antibacterial cleansers or iodine-containing preparations, as they may worsen acne.\\n*   **Treatment of choice:**\\n    *   Benzoyl peroxide 2.5% gel applied topically at night for 3-6 months.\\n    *   Plus Doxycycline (O) 100 mg once daily for 2-4 months.\\n    *   OR Retinoic acid topically 0.025-0.05% at night.\\n*   If the acne doesn't improve, refer to a specialist for oral retinoids (isotretinoin 0.5 -1mg/kg) and further assessment.\", additional_kwargs={}, response_metadata={}), HumanMessage(content='The medicine name is Paracetamol Tablets IP, and the main description given on the package includes the brand name Dolo-650 and the active ingredient 650mg of Paracetamol.', additional_kwargs={}, response_metadata={}), HumanMessage(content='The main context of this image is a box of Paracetamol Tablets IP, specifically Dolo-650, which is a type of pain reliever. The image shows the packaging and pills, indicating that it is a medical product.', additional_kwargs={}, response_metadata={}), AIMessage(content='Paracetamol Tablets IP (Dolo-650) are a type of pain reliever.\\n\\nBased on the provided context, potential side effects include:\\n\\n*   Dizziness\\n*   Fatigue\\n*   Anorexia\\n*   Nausea\\n*   Vomiting\\n*   Abdominal pain\\n*   Palpitations\\n*   Myalgia\\n*   Sleep disorders\\n*   Arthralgia\\n*   Headache\\n*   Rash', additional_kwargs={}, response_metadata={}), HumanMessage(content='This image shows a 3D rendering of the novel coronavirus (COVID-19), with red and gray spikes protruding from a central sphere.', additional_kwargs={}, response_metadata={}), AIMessage(content=\"The major structural components of the SARS-CoV-2 virus include:\\n\\n*   **S glycoprotein:** This is represented using a cartoon representation of its molecular structure.\\n*   **E and M proteins:** These are depicted with colored shapes.\\n*   **Nucleocapsid (N) protein:** This is the major structural component of the virion and is involved in viral replication, assembly, and immune response. The nucleocapsid protein binding to viral RNA is represented by a cartoon representation of the molecular structure of its N-terminal domain, while the C-terminal domain is depicted with a colored sphere.\\n\\n3D structures of the virus's proteins provide atomic-resolution information crucial for developing vaccines or treatments. Scientists have determined around a thousand 3D structures of the virus's 27 individual proteins. A new visualization method called a structural coverage map highlights what is known about SARS-CoV-2 and what is still left to uncover.\", additional_kwargs={}, response_metadata={}), HumanMessage(content='It shows the Novel Coronavirus (COVID-19).', additional_kwargs={}, response_metadata={}), AIMessage(content='Okay, I understand. I am a health assistant and can provide information on medications for specific conditions. Based on the provided context, Thiazides (like Hydrochlorothiazide) are preferred for uncomplicated hypertension, systolic hypertension in elderly people, and older diabetic patients without nephropathy. ACE inhibitors are also recommended as an initial treatment in certain hypertension situations.\\n\\nIf you have a specific health condition, please tell me more so I can provide more relevant information.', additional_kwargs={}, response_metadata={})], 'documents': [Document(id='70eb3bf7-0b63-487a-b151-41c4e2ef34c8', metadata={'creationdate': '', 'creator': 'PyPDF', 'moddate': '2025-04-07T03:16:38+00:00', 'page': 268.0, 'page_label': '269', 'producer': 'iLovePDF', 'source': 'Data\\\\Internal Medicine, Getachew Tizazu, Tadesse Anteneh_removed.pdf', 'total_pages': 585.0}, page_content='Internal Medicine \\n \\n \\n264\\nChoice of anti hypertensive drugs in certain situations for which a specific class of drug \\nmay be administered. \\n• Thiazides (e.g.Hydrochlorothiazide):is the preferred therapy for uncomplicated \\nhypertension ,  systolic hypertension in elderly people and  older diabetic patients \\nwithout nephropathy \\n• ACE inhibitor: should be the initial treatment in situations in which hypertension is'), Document(id='883e9684-6a2e-4e96-b85b-0a74622319c2', metadata={'creationdate': '', 'creator': 'PyPDF', 'moddate': '2025-04-07T03:16:38+00:00', 'page': 267.0, 'page_label': '268', 'producer': 'iLovePDF', 'source': 'Data\\\\Internal Medicine, Getachew Tizazu, Tadesse Anteneh_removed.pdf', 'total_pages': 585.0}, page_content='Internal Medicine \\n \\n \\n263\\nStepwise prescription of anti-hypertensive medication: \\n• Diuretics are often preferred as first line drugs. They may be effective alone in mild \\nhypertension. However most of the time they are used in combination with other \\ndrugs like: β –blockers, ACE inhibitors or Calcium channel blockers.  The addition of \\n12.5 – 25 mg of Hydrochlorothiazide will potentiate the activity of a number of \\nantihypertensive drugs, particularly ACE inhibitors. Such combination has an'), Document(id='675f3d93-9c89-4f1e-971e-d4c76eaaeb88', metadata={'creationdate': '', 'creator': 'PyPDF', 'moddate': '2025-04-07T03:14:44+00:00', 'page': 119.0, 'page_label': '120', 'producer': 'iLovePDF', 'source': 'Data\\\\05. Standard treatment guidelines and essential medicines list author Various authors_removed.pdf', 'total_pages': 401.0}, page_content='ACE inhibitor or ARB, usually in combination with diuretic \\n \\nChronic kidney disease ACE inhibitor, usually in combination with diuretic \\n \\nIsolated systolic hypertension Hydrochlorothiazide or Long acting calcium channel \\nblocker \\nPregnancy  \\n \\nMethyldopa or Hydralazine (Avoid ACEI/ARB tetratogenic)  \\nProstatism  alpha-blocker \\nElderly CCB \\n \\n \\n \\nRecommended Medicines for Treatment of Hypertension   \\n \\nS/N CLASS DRUG DOSAGE \\n01. Thiazide Diuretics Bendroflumethiazide 5mg once daily'), Document(id='e74c2801-f665-4c9f-9942-791b6e81a272', metadata={'creationdate': '', 'creator': 'PyPDF', 'moddate': '2025-04-07T03:14:44+00:00', 'page': 119.0, 'page_label': '120', 'producer': 'iLovePDF', 'source': 'Data\\\\05. Standard treatment guidelines and essential medicines list author Various authors_removed.pdf', 'total_pages': 401.0}, page_content='112 | P a g e  \\n \\nPharmacological therapy \\n \\n \\nFirst line treatment without compelling indications:                                                                               \\n \\nLow Dose Thiazide diuretics + Potassium sparing e.g. Bendroflumethiazide 2.5 -5mg/d, \\nHydrochlothiazide 12.5 -25mg/d + Spironolactone 25mg  daily. \\n \\n \\nSecond line treatment with compelling indications:  \\n \\nCompelling indications  Drug class \\n \\nAngina • ß-blocker or Long acting calcium channel blocker')], 'on_topic': 'Yes', 'enhanced_query': 'AI: I am sorry, I am an health assistant. I can provide information on medications for specific conditions. Based on the context, I can tell you that Thiazides (e.g., Hydrochlorothiazide) are preferred for uncomplicated hypertension, systolic hypertension in elderly people, and older diabetic patients without nephropathy. ACE inhibitors are recommended as an initial treatment in certain hypertension situations.\\n\\nIf you have a specific health condition in mind, please provide more details so I can offer more relevant information.', 'proceed_to_generate': True, 'rephrase_count': 0, 'question': HumanMessage(content='what if more than that?', additional_kwargs={}, response_metadata={})}\n"
     ]
    }
   ],
   "source": [
    "input_data = {\n",
    "    \"question\": HumanMessage(content=\"what if more than that?\")\n",
    "}\n",
    "response=app.invoke(input=input_data, config={\"configurable\": {\"thread_id\": 3}})\n",
    "print(response)"
   ]
  },
  {
   "cell_type": "code",
   "execution_count": 212,
   "id": "db168dee",
   "metadata": {},
   "outputs": [
    {
     "name": "stdout",
     "output_type": "stream",
     "text": [
      "Entering question_rewriter with following state: {'messages': [HumanMessage(content='the first body part that stops when humans die?', additional_kwargs={}, response_metadata={}), AIMessage(content=\"I'm sorry! I am an health assistant Please ask realted to health topics.\", additional_kwargs={}, response_metadata={}), HumanMessage(content='what changes needs to bring in his lifestyle?', additional_kwargs={}, response_metadata={}), AIMessage(content=\"To improve someone's health, several lifestyle changes can be beneficial:\\n\\n*   **Dietary modifications:** This includes reducing carbohydrates and fats while increasing the intake of fruits and vegetables. A healthcare professional, such as a dietician, can help calculate specific dietary requirements.\\n*   **Increased physical activity:** Aim for at least 30 minutes of brisk walking at least three times a week. Regular exercise, such as sports or gym activities, is also recommended.\\n*   **Reduced alcohol consumption:** It's encouraged to reduce or stop alcohol intake.\\n*   **Smoking cessation:** Stopping smoking is highly recommended.\\n*   **Stress management:** Reducing anxiety and emotional stress can also contribute to improved health.\\n*   **Frequent meals:** Eating small, more frequent meals can be beneficial.\", additional_kwargs={}, response_metadata={}), HumanMessage(content='what meditions needs to take?', additional_kwargs={}, response_metadata={}), AIMessage(content='I am sorry, I am an health assistant. I can provide information on medications for specific conditions. Based on the context, I can tell you that Thiazides (e.g., Hydrochlorothiazide) are preferred for uncomplicated hypertension, systolic hypertension in elderly people, and older diabetic patients without nephropathy. ACE inhibitors are recommended as an initial treatment in certain hypertension situations.\\n\\nIf you have a specific health condition in mind, please provide more details so I can offer more relevant information.', additional_kwargs={}, response_metadata={}), HumanMessage(content='how much sperm a healthy person release', additional_kwargs={}, response_metadata={}), AIMessage(content='A healthy male typically releases between 1.25 to 5 milliliters of semen during ejaculation, which is roughly ¼ to 1 teaspoon. The World Health Organization (WHO) considers the top percentile of semen volume to be around 6.2–6.9 ml, which is just over 1 teaspoon.', additional_kwargs={}, response_metadata={}), HumanMessage(content='what if more than that?', additional_kwargs={}, response_metadata={})], 'documents': [Document(id='a553d466-0ab6-4681-a5cf-a9c93fc9766e', metadata={'creationdate': '', 'creator': 'PyPDF', 'moddate': '2025-04-07T03:16:38+00:00', 'page': 299.0, 'page_label': '300', 'producer': 'iLovePDF', 'source': 'Data\\\\Internal Medicine, Getachew Tizazu, Tadesse Anteneh_removed.pdf', 'total_pages': 585.0}, page_content='¾ Even a normal urinalysis has diagnostic utility.  \\nUrine volume: has little diagnostic value.  \\n• Anuria (Complete absence of urine output): may be due to shock, complete \\nbilateral urinary tract obstruction, renal cortical necrosis, and bilateral vascular'), Document(id='6c4a5085-d6bf-495b-a5d9-a6f94e133bd4', metadata={'creationdate': '', 'creator': 'PyPDF', 'moddate': '2025-04-07T03:14:44+00:00', 'page': 19.0, 'page_label': '20', 'producer': 'iLovePDF', 'source': 'Data\\\\05. Standard treatment guidelines and essential medicines list author Various authors_removed.pdf', 'total_pages': 401.0}, page_content='usually with a urine output of less than 0.5ml kg/hr. \\nDifferential diagnosis'), Document(id='10675f64-02a4-49b9-afd8-f46a848911c6', metadata={'creationdate': '', 'creator': 'PyPDF', 'moddate': '2025-04-07T03:14:44+00:00', 'page': 181.0, 'page_label': '182', 'producer': 'iLovePDF', 'source': 'Data\\\\05. Standard treatment guidelines and essential medicines list author Various authors_removed.pdf', 'total_pages': 401.0}, page_content='174 | P a g e  \\n \\n\\uf0b7 Spread fluid intake throughout the day \\n\\uf0b7 Nappies should never be used as this will lower the child’s self esteem. \\nReferral \\n\\uf0b7 Suspected underlying systemic illness or chronic kidney disease \\n\\uf0b7 Persistent enuresis in a child 8 years or older \\n\\uf0b7 Diurnal enuresis \\n2.6 Erectile dysfunction disorders \\nIt is inability to attain and maintain an erect penis with sufficient rigidity for vaginal penetration.'), Document(id='711f38c4-4f0f-499c-8d4c-a2dae7d517f1', metadata={'creationdate': '', 'creator': 'PyPDF', 'moddate': '2025-04-07T03:14:44+00:00', 'page': 171.0, 'page_label': '172', 'producer': 'iLovePDF', 'source': 'Data\\\\05. Standard treatment guidelines and essential medicines list author Various authors_removed.pdf', 'total_pages': 401.0}, page_content='164 | P a g e  \\n \\nIt is often recognised by: \\n\\uf0b7 fluid overload \\n\\uf0b7 decreased or no urine output \\n\\uf0b7 blood result abnormalities of urea, creatinine or electrolytes. \\n\\uf0b7 convulsions in children \\n \\nGeneral measures \\n\\uf0b7 Give oxygen, and nurse in semi-Fowlers’ position if patient has respiratory distress. \\n Early referral is essential. \\n\\uf0b7 If fluid overloaded: \\n− stop all fluids oral and give no IV fluids \\n− stop intake of all salt and potassium containing foods and fluids'), Document(id='606f11e9-e2d6-449c-b2c3-38b168bfde75', metadata={'creationdate': '', 'creator': 'PyPDF', 'moddate': '2025-04-07T03:16:38+00:00', 'page': 123.0, 'page_label': '124', 'producer': 'iLovePDF', 'source': 'Data\\\\Internal Medicine, Getachew Tizazu, Tadesse Anteneh_removed.pdf', 'total_pages': 585.0}, page_content='• Oral: via saliva: HHV-8 titers 2-3 times higher in saliva than in semen, anorectal or \\nprostate fluid samples \\n Epidemiology \\n• Is the most  common Opportunistic malignancy among  HIV positive patients  \\n• With use of HAART, KS incidence has declined by 66%  \\nClinical Manifestations \\n• Can affect almost any organ system \\n• Most common sites include')], 'on_topic': 'Yes', 'enhanced_query': 'What are the potential implications of a semen volume exceeding the typical range of 1.25 to 5 milliliters during ejaculation?', 'proceed_to_generate': False, 'rephrase_count': 0, 'question': HumanMessage(content='what is cancer', additional_kwargs={}, response_metadata={})}\n",
      "Entering question_classifier\n",
      "question_classifier: on_topic = Yes\n",
      "Entering on_topic_router\n",
      "Routing to retrieve\n",
      "Entering retrieve\n",
      "Entering retrieval_grader\n",
      "retrieval_grader: proceed_to_generate = True\n",
      "Entering proceed_router\n",
      "Relevant documents found. Routing to generate_answer.\n",
      "Entering generate_answer\n",
      "HealthGuru: Cancer is a word covering a wide range of malignant diseases. It contributes significantly to the overall morbidity and mortality of people worldwide.\n",
      "{'messages': [HumanMessage(content='the first body part that stops when humans die?', additional_kwargs={}, response_metadata={}), AIMessage(content=\"I'm sorry! I am an health assistant Please ask realted to health topics.\", additional_kwargs={}, response_metadata={}), HumanMessage(content='what changes needs to bring in his lifestyle?', additional_kwargs={}, response_metadata={}), AIMessage(content=\"To improve someone's health, several lifestyle changes can be beneficial:\\n\\n*   **Dietary modifications:** This includes reducing carbohydrates and fats while increasing the intake of fruits and vegetables. A healthcare professional, such as a dietician, can help calculate specific dietary requirements.\\n*   **Increased physical activity:** Aim for at least 30 minutes of brisk walking at least three times a week. Regular exercise, such as sports or gym activities, is also recommended.\\n*   **Reduced alcohol consumption:** It's encouraged to reduce or stop alcohol intake.\\n*   **Smoking cessation:** Stopping smoking is highly recommended.\\n*   **Stress management:** Reducing anxiety and emotional stress can also contribute to improved health.\\n*   **Frequent meals:** Eating small, more frequent meals can be beneficial.\", additional_kwargs={}, response_metadata={}), HumanMessage(content='what meditions needs to take?', additional_kwargs={}, response_metadata={}), AIMessage(content='I am sorry, I am an health assistant. I can provide information on medications for specific conditions. Based on the context, I can tell you that Thiazides (e.g., Hydrochlorothiazide) are preferred for uncomplicated hypertension, systolic hypertension in elderly people, and older diabetic patients without nephropathy. ACE inhibitors are recommended as an initial treatment in certain hypertension situations.\\n\\nIf you have a specific health condition in mind, please provide more details so I can offer more relevant information.', additional_kwargs={}, response_metadata={}), HumanMessage(content='how much sperm a healthy person release', additional_kwargs={}, response_metadata={}), AIMessage(content='A healthy male typically releases between 1.25 to 5 milliliters of semen during ejaculation, which is roughly ¼ to 1 teaspoon. The World Health Organization (WHO) considers the top percentile of semen volume to be around 6.2–6.9 ml, which is just over 1 teaspoon.', additional_kwargs={}, response_metadata={}), HumanMessage(content='what if more than that?', additional_kwargs={}, response_metadata={}), HumanMessage(content='what is cancer', additional_kwargs={}, response_metadata={}), AIMessage(content='Cancer is a word covering a wide range of malignant diseases. It contributes significantly to the overall morbidity and mortality of people worldwide.', additional_kwargs={}, response_metadata={})], 'documents': [Document(id='3caa619a-7e3e-4b5c-826f-a081667bbd13', metadata={'creationdate': '', 'creator': 'PyPDF', 'moddate': '2025-04-07T03:14:44+00:00', 'page': 285.0, 'page_label': '286', 'producer': 'iLovePDF', 'source': 'Data\\\\05. Standard treatment guidelines and essential medicines list author Various authors_removed.pdf', 'total_pages': 401.0}, page_content='278 | P a g e  \\n \\n6.0 BREAST CANCER \\nIt is a malignant tumour of the glandular or lobular tissue of the breast. \\n \\nSymptoms: \\n\\uf0b7 A solitary lump in the breast  \\n\\uf0b7 Hardness, attachment to skin or deeper tissues, skin ulceration,  \\n\\uf0b7 Nipple retraction  \\n\\uf0b7 Presence of axillary lymphadenopathy or elsewhere \\n \\nInvestigations: \\n\\uf0b7 Laboratory: FBC, LFTs, urea, creatinine \\n\\uf0b7 Radiological: Mammography of the cont ralateral breast, CXR, abdominal USS, bone \\nscan in case of complaints.'), Document(id='b7f84c52-175d-4d8d-8834-28dd61181ef1', metadata={'creationdate': '', 'creator': 'PyPDF', 'moddate': '2025-04-07T03:14:44+00:00', 'page': 278.0, 'page_label': '279', 'producer': 'iLovePDF', 'source': 'Data\\\\05. Standard treatment guidelines and essential medicines list author Various authors_removed.pdf', 'total_pages': 401.0}, page_content='271 | P a g e  \\n \\n3.0 HEAD AND NECK CANCERS \\nDefinition: Carcinomas of the head and neck constitute an important group of tumours. They \\nmay interfere with vital functions such as: Respiratory, swallowing, sight, speech and \\nmastication. Important aetiological factors include excessive intake of tobacc o either by \\nsmoking or chewing and alcohol intake (particularly spirits). \\n \\nClinical features :  Presence of premalignant lesions in buccal mucosa and tongue. Other'), Document(id='3f5e9256-6901-4978-b361-022a2996c1c1', metadata={'creationdate': '', 'creator': 'PyPDF', 'moddate': '2025-04-07T03:14:44+00:00', 'page': 270.0, 'page_label': '271', 'producer': 'iLovePDF', 'source': 'Data\\\\05. Standard treatment guidelines and essential medicines list author Various authors_removed.pdf', 'total_pages': 401.0}, page_content='263 | P a g e  \\n \\nCHAPTER SIXTEEN \\nMALIGNANT DISEASE CONDITIONS \\nCancer is a word covering a wide range of malignant diseases which contribute significantly to \\nthe overall morbidity and mortality of people world -wide. The true magnitude of the cancer \\nsituation in Tanzania is unknown, however mo re than 3000 new cases are recorded in ORCI -\\nbased registry; and that is estimated to be only 10% of cancer incidence in the country. \\n \\n1.0 GYNAECOLOGICAL MALIGNANCIES')], 'on_topic': 'Yes', 'enhanced_query': 'What is cancer?', 'proceed_to_generate': True, 'rephrase_count': 0, 'question': HumanMessage(content='what is cancer', additional_kwargs={}, response_metadata={})}\n"
     ]
    }
   ],
   "source": [
    "input_data = {\n",
    "    \"question\": HumanMessage(content=\"what is cancer\")}\n",
    "response=app.invoke(input=input_data, config={\"configurable\": {\"thread_id\": 3}})\n",
    "print(response)"
   ]
  },
  {
   "cell_type": "code",
   "execution_count": null,
   "id": "0e1bfba8",
   "metadata": {},
   "outputs": [],
   "source": [
    "def clear_state(state: AgentState):\n",
    "    state[\"messages\"] = []\n",
    "    state[\"documents\"] = []\n",
    "    state[\"on_topic\"] = \"\"\n",
    "    state[\"enhanced_query\"] = \"\"\n",
    "    state[\"proceed_to_generate\"] = False\n",
    "    state[\"rephrase_count\"] = 0\n",
    "\n",
    "# create state\n",
    "agent_state: AgentState = {\n",
    "    \"messages\": [],\n",
    "    \"documents\": [],\n",
    "    \"on_topic\": \"\",\n",
    "    \"enhanced_query\": \"\",\n",
    "    \"proceed_to_generate\": False,\n",
    "    \"rephrase_count\": 0\n",
    "}\n",
    "\n",
    "# clear state\n",
    "clear_state(agent_state)"
   ]
  },
  {
   "cell_type": "code",
   "execution_count": 239,
   "id": "d1aa73e4",
   "metadata": {},
   "outputs": [
    {
     "name": "stdout",
     "output_type": "stream",
     "text": [
      "Image Description: It shows the Novel Coronavirus (COVID-19).\n"
     ]
    }
   ],
   "source": [
    "import base64\n",
    "import requests\n",
    "import io\n",
    "from PIL import Image\n",
    "from dotenv import load_dotenv\n",
    "import os\n",
    "import logging\n",
    "\n",
    "# Setup logging\n",
    "logging.basicConfig(level=logging.INFO)\n",
    "logger = logging.getLogger(__name__)\n",
    "\n",
    "# Load environment variables\n",
    "load_dotenv()\n",
    "GROQ_API_URL = \"https://api.groq.com/openai/v1/chat/completions\"\n",
    "GROQ_API_KEY = os.getenv(\"GROQ_API_KEY\")\n",
    "\n",
    "if not GROQ_API_KEY:\n",
    "    raise ValueError(\"GROQ API KEY is not set in the .env file\")\n",
    "\n",
    "def describe_image(image_path):\n",
    "    \"\"\"\n",
    "    Takes an image file path and returns a 1–2 line description about the image\n",
    "    focused on health-related topics, or a fallback response if not health-related.\n",
    "    \"\"\"\n",
    "    try:\n",
    "        with open(image_path, \"rb\") as image_file:\n",
    "            image_content = image_file.read()\n",
    "            encoded_image = base64.b64encode(image_content).decode(\"utf-8\")\n",
    "\n",
    "        # Check image validity\n",
    "        try:\n",
    "            img = Image.open(io.BytesIO(image_content))\n",
    "            img.verify()\n",
    "        except Exception as e:\n",
    "            logger.error(f\"Invalid image format: {str(e)}\")\n",
    "            return {\"error\": f\"Invalid image format: {str(e)}\"}\n",
    "\n",
    "        # Vision prompt: keep response short and useful for chaining\n",
    "        prompt_text = (\n",
    "         \"What does this image show? \"\n",
    "         \"describe it in a 1-2 line query strictly including the main context.\\n\\n\"\n",
    "         \"Examples:\\n\"\n",
    "         \"- If the image shows a person with a headache, respond: 'person has a problem with headache'.\\n\"\n",
    "         \"- If the image shows scalp issues, respond: 'person has a problem with scalp in the head'.\\n\"\n",
    "         \"- If the image shows medicine packaging, respond like: 'The medicine name is [medicine_name], and main description given on the package'.\"\n",
    "         \"-whatever its about describes just return in one line\"\n",
    "         \"like this only give short description\"\n",
    ")\n",
    "\n",
    "        messages = [\n",
    "            {\n",
    "                \"role\": \"user\",\n",
    "                \"content\": [\n",
    "                    {\"type\": \"text\", \"text\": prompt_text},\n",
    "                    {\"type\": \"image_url\", \"image_url\": {\"url\": f\"data:image/jpeg;base64,{encoded_image}\"}}\n",
    "                ]\n",
    "            }\n",
    "        ]\n",
    "\n",
    "        # Make the request to Groq API\n",
    "        response = requests.post(\n",
    "            GROQ_API_URL,\n",
    "            json={\n",
    "                \"model\": \"llama-3.2-90b-vision-preview\",\n",
    "                \"messages\": messages,\n",
    "                \"max_tokens\": 500\n",
    "            },\n",
    "            headers={\n",
    "                \"Authorization\": f\"Bearer {GROQ_API_KEY}\",\n",
    "                \"Content-Type\": \"application/json\"\n",
    "            },\n",
    "            timeout=30\n",
    "        )\n",
    "\n",
    "        response.raise_for_status()\n",
    "        data = response.json()\n",
    "        description = data.get(\"choices\", [{}])[0].get(\"message\", {}).get(\"content\", \"No description found.\")\n",
    "\n",
    "        return {\"description\": description.strip()}\n",
    "\n",
    "    except Exception as e:\n",
    "        logger.error(f\"Error: {str(e)}\")\n",
    "        return {\"error\": str(e)}\n",
    "\n",
    "# Run and test the function\n",
    "if __name__ == \"__main__\":\n",
    "    image_path = \"c.jpeg\"  # Replace with your test image\n",
    "    result = describe_image(image_path)\n",
    "\n",
    "    if \"error\" in result:\n",
    "        print(\"Error:\", result[\"error\"])\n",
    "    else:\n",
    "        query = result[\"description\"]\n",
    "        print(\"Image Description:\", query)\n",
    "        \n",
    "        # Create the input data for invoking the system\n",
    "        \n"
   ]
  },
  {
   "cell_type": "code",
   "execution_count": 243,
   "id": "66f50ef6",
   "metadata": {},
   "outputs": [
    {
     "name": "stdout",
     "output_type": "stream",
     "text": [
      "Entering question_rewriter with following state: {'messages': [HumanMessage(content='the first body part that stops when humans die?', additional_kwargs={}, response_metadata={}), AIMessage(content=\"I'm sorry! I am an health assistant Please ask realted to health topics.\", additional_kwargs={}, response_metadata={}), HumanMessage(content='what changes needs to bring in his lifestyle?', additional_kwargs={}, response_metadata={}), AIMessage(content=\"To improve someone's health, several lifestyle changes can be beneficial:\\n\\n*   **Dietary modifications:** This includes reducing carbohydrates and fats while increasing the intake of fruits and vegetables. A healthcare professional, such as a dietician, can help calculate specific dietary requirements.\\n*   **Increased physical activity:** Aim for at least 30 minutes of brisk walking at least three times a week. Regular exercise, such as sports or gym activities, is also recommended.\\n*   **Reduced alcohol consumption:** It's encouraged to reduce or stop alcohol intake.\\n*   **Smoking cessation:** Stopping smoking is highly recommended.\\n*   **Stress management:** Reducing anxiety and emotional stress can also contribute to improved health.\\n*   **Frequent meals:** Eating small, more frequent meals can be beneficial.\", additional_kwargs={}, response_metadata={}), HumanMessage(content='what meditions needs to take?', additional_kwargs={}, response_metadata={}), AIMessage(content='I am sorry, I am an health assistant. I can provide information on medications for specific conditions. Based on the context, I can tell you that Thiazides (e.g., Hydrochlorothiazide) are preferred for uncomplicated hypertension, systolic hypertension in elderly people, and older diabetic patients without nephropathy. ACE inhibitors are recommended as an initial treatment in certain hypertension situations.\\n\\nIf you have a specific health condition in mind, please provide more details so I can offer more relevant information.', additional_kwargs={}, response_metadata={}), HumanMessage(content='how much sperm a healthy person release', additional_kwargs={}, response_metadata={}), AIMessage(content='A healthy male typically releases between 1.25 to 5 milliliters of semen during ejaculation, which is roughly ¼ to 1 teaspoon. The World Health Organization (WHO) considers the top percentile of semen volume to be around 6.2–6.9 ml, which is just over 1 teaspoon.', additional_kwargs={}, response_metadata={}), HumanMessage(content='what if more than that?', additional_kwargs={}, response_metadata={}), HumanMessage(content='what is cancer', additional_kwargs={}, response_metadata={}), AIMessage(content='Cancer is a word covering a wide range of malignant diseases. It contributes significantly to the overall morbidity and mortality of people worldwide.', additional_kwargs={}, response_metadata={}), HumanMessage(content='a landscape with mountains, trees, and water.', additional_kwargs={}, response_metadata={}), AIMessage(content=\"I'm sorry! I am an health assistant Please ask realted to health topics.\", additional_kwargs={}, response_metadata={}), HumanMessage(content='Person has a problem with acne.', additional_kwargs={}, response_metadata={}), AIMessage(content=\"For acne, the following are recommended:\\n\\n**Lifestyle Changes:**\\n\\n*   Encourage a healthy lifestyle including exercise, sunshine, and a good diet.\\n*   Seek to identify and address underlying causes, such as stress, overuse of ointments, or certain medications like steroids or anticonvulsants.\\n\\n**Treatments:**\\n\\n*   Use ordinary soap. Avoid harsh antibacterial cleansers or iodine-containing preparations, as they may worsen acne.\\n*   **Treatment of choice:**\\n    *   Benzoyl peroxide 2.5% gel applied topically at night for 3-6 months.\\n    *   Plus Doxycycline (O) 100 mg once daily for 2-4 months.\\n    *   OR Retinoic acid topically 0.025-0.05% at night.\\n*   If the acne doesn't improve, refer to a specialist for oral retinoids (isotretinoin 0.5 -1mg/kg) and further assessment.\", additional_kwargs={}, response_metadata={}), HumanMessage(content='**The image depicts a person with acne on their face, which is the main problem or issue.**', additional_kwargs={}, response_metadata={}), AIMessage(content=\"For acne, the following treatments are recommended:\\n\\n*   Use ordinary soap. Avoid harsh antibacterial cleansers or iodine-containing preparations, as they may worsen acne.\\n*   **Treatment of choice:**\\n    *   Benzoyl peroxide 2.5% gel applied topically at night for 3-6 months.\\n    *   Plus Doxycycline (O) 100 mg once daily for 2-4 months.\\n    *   OR Retinoic acid topically 0.025-0.05% at night.\\n*   If the acne doesn't improve, refer to a specialist for oral retinoids (isotretinoin 0.5 -1mg/kg) and further assessment.\", additional_kwargs={}, response_metadata={}), HumanMessage(content='The medicine name is Paracetamol Tablets IP, and the main description given on the package includes the brand name Dolo-650 and the active ingredient 650mg of Paracetamol.', additional_kwargs={}, response_metadata={}), HumanMessage(content='The main context of this image is a box of Paracetamol Tablets IP, specifically Dolo-650, which is a type of pain reliever. The image shows the packaging and pills, indicating that it is a medical product.', additional_kwargs={}, response_metadata={}), AIMessage(content='Paracetamol Tablets IP (Dolo-650) are a type of pain reliever.\\n\\nBased on the provided context, potential side effects include:\\n\\n*   Dizziness\\n*   Fatigue\\n*   Anorexia\\n*   Nausea\\n*   Vomiting\\n*   Abdominal pain\\n*   Palpitations\\n*   Myalgia\\n*   Sleep disorders\\n*   Arthralgia\\n*   Headache\\n*   Rash', additional_kwargs={}, response_metadata={}), HumanMessage(content='This image shows a 3D rendering of the novel coronavirus (COVID-19), with red and gray spikes protruding from a central sphere.', additional_kwargs={}, response_metadata={}), AIMessage(content=\"The major structural components of the SARS-CoV-2 virus include:\\n\\n*   **S glycoprotein:** This is represented using a cartoon representation of its molecular structure.\\n*   **E and M proteins:** These are depicted with colored shapes.\\n*   **Nucleocapsid (N) protein:** This is the major structural component of the virion and is involved in viral replication, assembly, and immune response. The nucleocapsid protein binding to viral RNA is represented by a cartoon representation of the molecular structure of its N-terminal domain, while the C-terminal domain is depicted with a colored sphere.\\n\\n3D structures of the virus's proteins provide atomic-resolution information crucial for developing vaccines or treatments. Scientists have determined around a thousand 3D structures of the virus's 27 individual proteins. A new visualization method called a structural coverage map highlights what is known about SARS-CoV-2 and what is still left to uncover.\", additional_kwargs={}, response_metadata={}), HumanMessage(content='It shows the Novel Coronavirus (COVID-19).', additional_kwargs={}, response_metadata={}), AIMessage(content='Okay, I understand. I am a health assistant and can provide information on medications for specific conditions. Based on the provided context, Thiazides (like Hydrochlorothiazide) are preferred for uncomplicated hypertension, systolic hypertension in elderly people, and older diabetic patients without nephropathy. ACE inhibitors are also recommended as an initial treatment in certain hypertension situations.\\n\\nIf you have a specific health condition, please tell me more so I can provide more relevant information.', additional_kwargs={}, response_metadata={})], 'documents': [Document(id='70eb3bf7-0b63-487a-b151-41c4e2ef34c8', metadata={'creationdate': '', 'creator': 'PyPDF', 'moddate': '2025-04-07T03:16:38+00:00', 'page': 268.0, 'page_label': '269', 'producer': 'iLovePDF', 'source': 'Data\\\\Internal Medicine, Getachew Tizazu, Tadesse Anteneh_removed.pdf', 'total_pages': 585.0}, page_content='Internal Medicine \\n \\n \\n264\\nChoice of anti hypertensive drugs in certain situations for which a specific class of drug \\nmay be administered. \\n• Thiazides (e.g.Hydrochlorothiazide):is the preferred therapy for uncomplicated \\nhypertension ,  systolic hypertension in elderly people and  older diabetic patients \\nwithout nephropathy \\n• ACE inhibitor: should be the initial treatment in situations in which hypertension is'), Document(id='883e9684-6a2e-4e96-b85b-0a74622319c2', metadata={'creationdate': '', 'creator': 'PyPDF', 'moddate': '2025-04-07T03:16:38+00:00', 'page': 267.0, 'page_label': '268', 'producer': 'iLovePDF', 'source': 'Data\\\\Internal Medicine, Getachew Tizazu, Tadesse Anteneh_removed.pdf', 'total_pages': 585.0}, page_content='Internal Medicine \\n \\n \\n263\\nStepwise prescription of anti-hypertensive medication: \\n• Diuretics are often preferred as first line drugs. They may be effective alone in mild \\nhypertension. However most of the time they are used in combination with other \\ndrugs like: β –blockers, ACE inhibitors or Calcium channel blockers.  The addition of \\n12.5 – 25 mg of Hydrochlorothiazide will potentiate the activity of a number of \\nantihypertensive drugs, particularly ACE inhibitors. Such combination has an'), Document(id='675f3d93-9c89-4f1e-971e-d4c76eaaeb88', metadata={'creationdate': '', 'creator': 'PyPDF', 'moddate': '2025-04-07T03:14:44+00:00', 'page': 119.0, 'page_label': '120', 'producer': 'iLovePDF', 'source': 'Data\\\\05. Standard treatment guidelines and essential medicines list author Various authors_removed.pdf', 'total_pages': 401.0}, page_content='ACE inhibitor or ARB, usually in combination with diuretic \\n \\nChronic kidney disease ACE inhibitor, usually in combination with diuretic \\n \\nIsolated systolic hypertension Hydrochlorothiazide or Long acting calcium channel \\nblocker \\nPregnancy  \\n \\nMethyldopa or Hydralazine (Avoid ACEI/ARB tetratogenic)  \\nProstatism  alpha-blocker \\nElderly CCB \\n \\n \\n \\nRecommended Medicines for Treatment of Hypertension   \\n \\nS/N CLASS DRUG DOSAGE \\n01. Thiazide Diuretics Bendroflumethiazide 5mg once daily'), Document(id='e74c2801-f665-4c9f-9942-791b6e81a272', metadata={'creationdate': '', 'creator': 'PyPDF', 'moddate': '2025-04-07T03:14:44+00:00', 'page': 119.0, 'page_label': '120', 'producer': 'iLovePDF', 'source': 'Data\\\\05. Standard treatment guidelines and essential medicines list author Various authors_removed.pdf', 'total_pages': 401.0}, page_content='112 | P a g e  \\n \\nPharmacological therapy \\n \\n \\nFirst line treatment without compelling indications:                                                                               \\n \\nLow Dose Thiazide diuretics + Potassium sparing e.g. Bendroflumethiazide 2.5 -5mg/d, \\nHydrochlothiazide 12.5 -25mg/d + Spironolactone 25mg  daily. \\n \\n \\nSecond line treatment with compelling indications:  \\n \\nCompelling indications  Drug class \\n \\nAngina • ß-blocker or Long acting calcium channel blocker')], 'on_topic': 'Yes', 'enhanced_query': 'AI: I am sorry, I am an health assistant. I can provide information on medications for specific conditions. Based on the context, I can tell you that Thiazides (e.g., Hydrochlorothiazide) are preferred for uncomplicated hypertension, systolic hypertension in elderly people, and older diabetic patients without nephropathy. ACE inhibitors are recommended as an initial treatment in certain hypertension situations.\\n\\nIf you have a specific health condition in mind, please provide more details so I can offer more relevant information.', 'proceed_to_generate': True, 'rephrase_count': 0, 'question': HumanMessage(content='It shows the Novel Coronavirus (COVID-19).', additional_kwargs={}, response_metadata={})}\n",
      "Entering question_classifier\n",
      "question_classifier: on_topic = Yes\n",
      "Entering on_topic_router\n",
      "Routing to retrieve\n",
      "Entering retrieve\n",
      "Entering retrieval_grader\n",
      "retrieval_grader: proceed_to_generate = True\n",
      "Entering proceed_router\n",
      "Relevant documents found. Routing to generate_answer.\n",
      "Entering generate_answer\n",
      "HealthGuru: The major structural components of the Novel Coronavirus (COVID-19) include:\n",
      "\n",
      "*   **S glycoprotein:** This is represented using a cartoon representation of its molecular structure.\n",
      "*   **E and M proteins:** These are depicted with colored shapes.\n",
      "*   **Nucleocapsid (N) protein:** This is the major structural component of the virion and is involved in viral replication, assembly, and immune response. The nucleocapsid protein binding to viral RNA is represented by a cartoon representation of the molecular structure of its N-terminal domain, while the C-terminal domain is depicted with a colored sphere.\n",
      "\n",
      "Additionally, the viral envelope has many small spikes which consist of two important glycoproteins gp41 and gp120 which play an important role when the virus attaches to its host cells. The viral capsid (core) contains two single-stranded viral RNA and an important enzyme for the virus called reverse transcriptase enzyme.\n",
      "{'messages': [HumanMessage(content='the first body part that stops when humans die?', additional_kwargs={}, response_metadata={}), AIMessage(content=\"I'm sorry! I am an health assistant Please ask realted to health topics.\", additional_kwargs={}, response_metadata={}), HumanMessage(content='what changes needs to bring in his lifestyle?', additional_kwargs={}, response_metadata={}), AIMessage(content=\"To improve someone's health, several lifestyle changes can be beneficial:\\n\\n*   **Dietary modifications:** This includes reducing carbohydrates and fats while increasing the intake of fruits and vegetables. A healthcare professional, such as a dietician, can help calculate specific dietary requirements.\\n*   **Increased physical activity:** Aim for at least 30 minutes of brisk walking at least three times a week. Regular exercise, such as sports or gym activities, is also recommended.\\n*   **Reduced alcohol consumption:** It's encouraged to reduce or stop alcohol intake.\\n*   **Smoking cessation:** Stopping smoking is highly recommended.\\n*   **Stress management:** Reducing anxiety and emotional stress can also contribute to improved health.\\n*   **Frequent meals:** Eating small, more frequent meals can be beneficial.\", additional_kwargs={}, response_metadata={}), HumanMessage(content='what meditions needs to take?', additional_kwargs={}, response_metadata={}), AIMessage(content='I am sorry, I am an health assistant. I can provide information on medications for specific conditions. Based on the context, I can tell you that Thiazides (e.g., Hydrochlorothiazide) are preferred for uncomplicated hypertension, systolic hypertension in elderly people, and older diabetic patients without nephropathy. ACE inhibitors are recommended as an initial treatment in certain hypertension situations.\\n\\nIf you have a specific health condition in mind, please provide more details so I can offer more relevant information.', additional_kwargs={}, response_metadata={}), HumanMessage(content='how much sperm a healthy person release', additional_kwargs={}, response_metadata={}), AIMessage(content='A healthy male typically releases between 1.25 to 5 milliliters of semen during ejaculation, which is roughly ¼ to 1 teaspoon. The World Health Organization (WHO) considers the top percentile of semen volume to be around 6.2–6.9 ml, which is just over 1 teaspoon.', additional_kwargs={}, response_metadata={}), HumanMessage(content='what if more than that?', additional_kwargs={}, response_metadata={}), HumanMessage(content='what is cancer', additional_kwargs={}, response_metadata={}), AIMessage(content='Cancer is a word covering a wide range of malignant diseases. It contributes significantly to the overall morbidity and mortality of people worldwide.', additional_kwargs={}, response_metadata={}), HumanMessage(content='a landscape with mountains, trees, and water.', additional_kwargs={}, response_metadata={}), AIMessage(content=\"I'm sorry! I am an health assistant Please ask realted to health topics.\", additional_kwargs={}, response_metadata={}), HumanMessage(content='Person has a problem with acne.', additional_kwargs={}, response_metadata={}), AIMessage(content=\"For acne, the following are recommended:\\n\\n**Lifestyle Changes:**\\n\\n*   Encourage a healthy lifestyle including exercise, sunshine, and a good diet.\\n*   Seek to identify and address underlying causes, such as stress, overuse of ointments, or certain medications like steroids or anticonvulsants.\\n\\n**Treatments:**\\n\\n*   Use ordinary soap. Avoid harsh antibacterial cleansers or iodine-containing preparations, as they may worsen acne.\\n*   **Treatment of choice:**\\n    *   Benzoyl peroxide 2.5% gel applied topically at night for 3-6 months.\\n    *   Plus Doxycycline (O) 100 mg once daily for 2-4 months.\\n    *   OR Retinoic acid topically 0.025-0.05% at night.\\n*   If the acne doesn't improve, refer to a specialist for oral retinoids (isotretinoin 0.5 -1mg/kg) and further assessment.\", additional_kwargs={}, response_metadata={}), HumanMessage(content='**The image depicts a person with acne on their face, which is the main problem or issue.**', additional_kwargs={}, response_metadata={}), AIMessage(content=\"For acne, the following treatments are recommended:\\n\\n*   Use ordinary soap. Avoid harsh antibacterial cleansers or iodine-containing preparations, as they may worsen acne.\\n*   **Treatment of choice:**\\n    *   Benzoyl peroxide 2.5% gel applied topically at night for 3-6 months.\\n    *   Plus Doxycycline (O) 100 mg once daily for 2-4 months.\\n    *   OR Retinoic acid topically 0.025-0.05% at night.\\n*   If the acne doesn't improve, refer to a specialist for oral retinoids (isotretinoin 0.5 -1mg/kg) and further assessment.\", additional_kwargs={}, response_metadata={}), HumanMessage(content='The medicine name is Paracetamol Tablets IP, and the main description given on the package includes the brand name Dolo-650 and the active ingredient 650mg of Paracetamol.', additional_kwargs={}, response_metadata={}), HumanMessage(content='The main context of this image is a box of Paracetamol Tablets IP, specifically Dolo-650, which is a type of pain reliever. The image shows the packaging and pills, indicating that it is a medical product.', additional_kwargs={}, response_metadata={}), AIMessage(content='Paracetamol Tablets IP (Dolo-650) are a type of pain reliever.\\n\\nBased on the provided context, potential side effects include:\\n\\n*   Dizziness\\n*   Fatigue\\n*   Anorexia\\n*   Nausea\\n*   Vomiting\\n*   Abdominal pain\\n*   Palpitations\\n*   Myalgia\\n*   Sleep disorders\\n*   Arthralgia\\n*   Headache\\n*   Rash', additional_kwargs={}, response_metadata={}), HumanMessage(content='This image shows a 3D rendering of the novel coronavirus (COVID-19), with red and gray spikes protruding from a central sphere.', additional_kwargs={}, response_metadata={}), AIMessage(content=\"The major structural components of the SARS-CoV-2 virus include:\\n\\n*   **S glycoprotein:** This is represented using a cartoon representation of its molecular structure.\\n*   **E and M proteins:** These are depicted with colored shapes.\\n*   **Nucleocapsid (N) protein:** This is the major structural component of the virion and is involved in viral replication, assembly, and immune response. The nucleocapsid protein binding to viral RNA is represented by a cartoon representation of the molecular structure of its N-terminal domain, while the C-terminal domain is depicted with a colored sphere.\\n\\n3D structures of the virus's proteins provide atomic-resolution information crucial for developing vaccines or treatments. Scientists have determined around a thousand 3D structures of the virus's 27 individual proteins. A new visualization method called a structural coverage map highlights what is known about SARS-CoV-2 and what is still left to uncover.\", additional_kwargs={}, response_metadata={}), HumanMessage(content='It shows the Novel Coronavirus (COVID-19).', additional_kwargs={}, response_metadata={}), AIMessage(content='Okay, I understand. I am a health assistant and can provide information on medications for specific conditions. Based on the provided context, Thiazides (like Hydrochlorothiazide) are preferred for uncomplicated hypertension, systolic hypertension in elderly people, and older diabetic patients without nephropathy. ACE inhibitors are also recommended as an initial treatment in certain hypertension situations.\\n\\nIf you have a specific health condition, please tell me more so I can provide more relevant information.', additional_kwargs={}, response_metadata={}), AIMessage(content='The major structural components of the Novel Coronavirus (COVID-19) include:\\n\\n*   **S glycoprotein:** This is represented using a cartoon representation of its molecular structure.\\n*   **E and M proteins:** These are depicted with colored shapes.\\n*   **Nucleocapsid (N) protein:** This is the major structural component of the virion and is involved in viral replication, assembly, and immune response. The nucleocapsid protein binding to viral RNA is represented by a cartoon representation of the molecular structure of its N-terminal domain, while the C-terminal domain is depicted with a colored sphere.\\n\\nAdditionally, the viral envelope has many small spikes which consist of two important glycoproteins gp41 and gp120 which play an important role when the virus attaches to its host cells. The viral capsid (core) contains two single-stranded viral RNA and an important enzyme for the virus called reverse transcriptase enzyme.', additional_kwargs={}, response_metadata={})], 'documents': [Document(id='eaf4a863-e220-4832-85ee-2d56ec40ccd5', metadata={'creationdate': '', 'creator': 'PyPDF', 'moddate': '2025-04-07T03:16:38+00:00', 'page': 87.0, 'page_label': '88', 'producer': 'iLovePDF', 'source': 'Data\\\\Internal Medicine, Getachew Tizazu, Tadesse Anteneh_removed.pdf', 'total_pages': 585.0}, page_content='\\x83 Its viral envelop has many small spikes  which consists of two important \\nglycopropteins gp41 and gp120 which play an important role when the virus \\nattaches to its host cells \\n\\x83 The viral capsid ( core )  which contains two single stranded viral RNA and an \\nimportant enzyme for the virus called reverse transcriptase enzyme  \\n\\x83 The reverse transcriptase enzyme plays an important step in the life cycle of the \\nvirus. It converts the single stranded viral RNA into double stranded DNA  ( this')], 'on_topic': 'Yes', 'enhanced_query': 'AI: What are the structural components of the Novel Coronavirus (COVID-19)?', 'proceed_to_generate': True, 'rephrase_count': 0, 'question': HumanMessage(content='It shows the Novel Coronavirus (COVID-19).', additional_kwargs={}, response_metadata={})}\n"
     ]
    }
   ],
   "source": [
    "input_data = {\n",
    "            \"question\": HumanMessage(content=query)\n",
    "        }\n",
    "\n",
    "        # Assuming `app.invoke()` is a part of your system for processing\n",
    "response = app.invoke(input=input_data, config={\"configurable\": {\"thread_id\": 3}})\n",
    "        \n",
    "        # Printing the response after invoking\n",
    "print(response)"
   ]
  }
 ],
 "metadata": {
  "kernelspec": {
   "display_name": "venv",
   "language": "python",
   "name": "python3"
  },
  "language_info": {
   "codemirror_mode": {
    "name": "ipython",
    "version": 3
   },
   "file_extension": ".py",
   "mimetype": "text/x-python",
   "name": "python",
   "nbconvert_exporter": "python",
   "pygments_lexer": "ipython3",
   "version": "3.12.4"
  }
 },
 "nbformat": 4,
 "nbformat_minor": 5
}
